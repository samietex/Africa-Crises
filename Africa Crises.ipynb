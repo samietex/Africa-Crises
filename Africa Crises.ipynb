{
  "cells": [
    {
      "cell_type": "code",
      "execution_count": 263,
      "metadata": {
        "id": "E6C-OXv-LPk9"
      },
      "outputs": [],
      "source": [
        "import pandas as pd\n",
        "import numpy as np\n",
        "import matplotlib.pyplot as plt\n",
        "import plotly.express as px"
      ]
    },
    {
      "cell_type": "code",
      "execution_count": 264,
      "metadata": {
        "colab": {
          "base_uri": "https://localhost:8080/",
          "height": 226
        },
        "id": "02-UZ8tmLPlD",
        "outputId": "034ce8b9-ab33-48ea-dac7-4b952e8c2bba"
      },
      "outputs": [
        {
          "data": {
            "text/html": [
              "<div>\n",
              "<style scoped>\n",
              "    .dataframe tbody tr th:only-of-type {\n",
              "        vertical-align: middle;\n",
              "    }\n",
              "\n",
              "    .dataframe tbody tr th {\n",
              "        vertical-align: top;\n",
              "    }\n",
              "\n",
              "    .dataframe thead th {\n",
              "        text-align: right;\n",
              "    }\n",
              "</style>\n",
              "<table border=\"1\" class=\"dataframe\">\n",
              "  <thead>\n",
              "    <tr style=\"text-align: right;\">\n",
              "      <th></th>\n",
              "      <th>country_number</th>\n",
              "      <th>country_code</th>\n",
              "      <th>country</th>\n",
              "      <th>year</th>\n",
              "      <th>systemic_crisis</th>\n",
              "      <th>exch_usd</th>\n",
              "      <th>domestic_debt_in_default</th>\n",
              "      <th>sovereign_external_debt_default</th>\n",
              "      <th>gdp_weighted_default</th>\n",
              "      <th>inflation_annual_cpi</th>\n",
              "      <th>independence</th>\n",
              "      <th>currency_crises</th>\n",
              "      <th>inflation_crises</th>\n",
              "      <th>banking_crisis</th>\n",
              "    </tr>\n",
              "  </thead>\n",
              "  <tbody>\n",
              "    <tr>\n",
              "      <th>0</th>\n",
              "      <td>1</td>\n",
              "      <td>DZA</td>\n",
              "      <td>Algeria</td>\n",
              "      <td>1870</td>\n",
              "      <td>1</td>\n",
              "      <td>0.052264</td>\n",
              "      <td>0</td>\n",
              "      <td>0</td>\n",
              "      <td>0.0</td>\n",
              "      <td>3.441456</td>\n",
              "      <td>0</td>\n",
              "      <td>0</td>\n",
              "      <td>0</td>\n",
              "      <td>crisis</td>\n",
              "    </tr>\n",
              "    <tr>\n",
              "      <th>1</th>\n",
              "      <td>1</td>\n",
              "      <td>DZA</td>\n",
              "      <td>Algeria</td>\n",
              "      <td>1871</td>\n",
              "      <td>0</td>\n",
              "      <td>0.052798</td>\n",
              "      <td>0</td>\n",
              "      <td>0</td>\n",
              "      <td>0.0</td>\n",
              "      <td>14.149140</td>\n",
              "      <td>0</td>\n",
              "      <td>0</td>\n",
              "      <td>0</td>\n",
              "      <td>no_crisis</td>\n",
              "    </tr>\n",
              "    <tr>\n",
              "      <th>2</th>\n",
              "      <td>1</td>\n",
              "      <td>DZA</td>\n",
              "      <td>Algeria</td>\n",
              "      <td>1872</td>\n",
              "      <td>0</td>\n",
              "      <td>0.052274</td>\n",
              "      <td>0</td>\n",
              "      <td>0</td>\n",
              "      <td>0.0</td>\n",
              "      <td>-3.718593</td>\n",
              "      <td>0</td>\n",
              "      <td>0</td>\n",
              "      <td>0</td>\n",
              "      <td>no_crisis</td>\n",
              "    </tr>\n",
              "    <tr>\n",
              "      <th>3</th>\n",
              "      <td>1</td>\n",
              "      <td>DZA</td>\n",
              "      <td>Algeria</td>\n",
              "      <td>1873</td>\n",
              "      <td>0</td>\n",
              "      <td>0.051680</td>\n",
              "      <td>0</td>\n",
              "      <td>0</td>\n",
              "      <td>0.0</td>\n",
              "      <td>11.203897</td>\n",
              "      <td>0</td>\n",
              "      <td>0</td>\n",
              "      <td>0</td>\n",
              "      <td>no_crisis</td>\n",
              "    </tr>\n",
              "    <tr>\n",
              "      <th>4</th>\n",
              "      <td>1</td>\n",
              "      <td>DZA</td>\n",
              "      <td>Algeria</td>\n",
              "      <td>1874</td>\n",
              "      <td>0</td>\n",
              "      <td>0.051308</td>\n",
              "      <td>0</td>\n",
              "      <td>0</td>\n",
              "      <td>0.0</td>\n",
              "      <td>-3.848561</td>\n",
              "      <td>0</td>\n",
              "      <td>0</td>\n",
              "      <td>0</td>\n",
              "      <td>no_crisis</td>\n",
              "    </tr>\n",
              "    <tr>\n",
              "      <th>...</th>\n",
              "      <td>...</td>\n",
              "      <td>...</td>\n",
              "      <td>...</td>\n",
              "      <td>...</td>\n",
              "      <td>...</td>\n",
              "      <td>...</td>\n",
              "      <td>...</td>\n",
              "      <td>...</td>\n",
              "      <td>...</td>\n",
              "      <td>...</td>\n",
              "      <td>...</td>\n",
              "      <td>...</td>\n",
              "      <td>...</td>\n",
              "      <td>...</td>\n",
              "    </tr>\n",
              "    <tr>\n",
              "      <th>1054</th>\n",
              "      <td>70</td>\n",
              "      <td>ZWE</td>\n",
              "      <td>Zimbabwe</td>\n",
              "      <td>2009</td>\n",
              "      <td>1</td>\n",
              "      <td>354.800000</td>\n",
              "      <td>1</td>\n",
              "      <td>1</td>\n",
              "      <td>0.0</td>\n",
              "      <td>-7.670000</td>\n",
              "      <td>1</td>\n",
              "      <td>1</td>\n",
              "      <td>0</td>\n",
              "      <td>crisis</td>\n",
              "    </tr>\n",
              "    <tr>\n",
              "      <th>1055</th>\n",
              "      <td>70</td>\n",
              "      <td>ZWE</td>\n",
              "      <td>Zimbabwe</td>\n",
              "      <td>2010</td>\n",
              "      <td>0</td>\n",
              "      <td>378.200000</td>\n",
              "      <td>1</td>\n",
              "      <td>1</td>\n",
              "      <td>0.0</td>\n",
              "      <td>3.217000</td>\n",
              "      <td>1</td>\n",
              "      <td>0</td>\n",
              "      <td>0</td>\n",
              "      <td>no_crisis</td>\n",
              "    </tr>\n",
              "    <tr>\n",
              "      <th>1056</th>\n",
              "      <td>70</td>\n",
              "      <td>ZWE</td>\n",
              "      <td>Zimbabwe</td>\n",
              "      <td>2011</td>\n",
              "      <td>0</td>\n",
              "      <td>361.900000</td>\n",
              "      <td>1</td>\n",
              "      <td>1</td>\n",
              "      <td>0.0</td>\n",
              "      <td>4.920000</td>\n",
              "      <td>1</td>\n",
              "      <td>0</td>\n",
              "      <td>0</td>\n",
              "      <td>no_crisis</td>\n",
              "    </tr>\n",
              "    <tr>\n",
              "      <th>1057</th>\n",
              "      <td>70</td>\n",
              "      <td>ZWE</td>\n",
              "      <td>Zimbabwe</td>\n",
              "      <td>2012</td>\n",
              "      <td>0</td>\n",
              "      <td>361.900000</td>\n",
              "      <td>1</td>\n",
              "      <td>1</td>\n",
              "      <td>0.0</td>\n",
              "      <td>3.720000</td>\n",
              "      <td>1</td>\n",
              "      <td>0</td>\n",
              "      <td>0</td>\n",
              "      <td>no_crisis</td>\n",
              "    </tr>\n",
              "    <tr>\n",
              "      <th>1058</th>\n",
              "      <td>70</td>\n",
              "      <td>ZWE</td>\n",
              "      <td>Zimbabwe</td>\n",
              "      <td>2013</td>\n",
              "      <td>0</td>\n",
              "      <td>361.900000</td>\n",
              "      <td>1</td>\n",
              "      <td>1</td>\n",
              "      <td>0.0</td>\n",
              "      <td>1.632000</td>\n",
              "      <td>1</td>\n",
              "      <td>0</td>\n",
              "      <td>0</td>\n",
              "      <td>no_crisis</td>\n",
              "    </tr>\n",
              "  </tbody>\n",
              "</table>\n",
              "<p>1059 rows × 14 columns</p>\n",
              "</div>"
            ],
            "text/plain": [
              "      country_number country_code   country  year  systemic_crisis  \\\n",
              "0                  1          DZA   Algeria  1870                1   \n",
              "1                  1          DZA   Algeria  1871                0   \n",
              "2                  1          DZA   Algeria  1872                0   \n",
              "3                  1          DZA   Algeria  1873                0   \n",
              "4                  1          DZA   Algeria  1874                0   \n",
              "...              ...          ...       ...   ...              ...   \n",
              "1054              70          ZWE  Zimbabwe  2009                1   \n",
              "1055              70          ZWE  Zimbabwe  2010                0   \n",
              "1056              70          ZWE  Zimbabwe  2011                0   \n",
              "1057              70          ZWE  Zimbabwe  2012                0   \n",
              "1058              70          ZWE  Zimbabwe  2013                0   \n",
              "\n",
              "        exch_usd  domestic_debt_in_default  sovereign_external_debt_default  \\\n",
              "0       0.052264                         0                                0   \n",
              "1       0.052798                         0                                0   \n",
              "2       0.052274                         0                                0   \n",
              "3       0.051680                         0                                0   \n",
              "4       0.051308                         0                                0   \n",
              "...          ...                       ...                              ...   \n",
              "1054  354.800000                         1                                1   \n",
              "1055  378.200000                         1                                1   \n",
              "1056  361.900000                         1                                1   \n",
              "1057  361.900000                         1                                1   \n",
              "1058  361.900000                         1                                1   \n",
              "\n",
              "      gdp_weighted_default  inflation_annual_cpi  independence  \\\n",
              "0                      0.0              3.441456             0   \n",
              "1                      0.0             14.149140             0   \n",
              "2                      0.0             -3.718593             0   \n",
              "3                      0.0             11.203897             0   \n",
              "4                      0.0             -3.848561             0   \n",
              "...                    ...                   ...           ...   \n",
              "1054                   0.0             -7.670000             1   \n",
              "1055                   0.0              3.217000             1   \n",
              "1056                   0.0              4.920000             1   \n",
              "1057                   0.0              3.720000             1   \n",
              "1058                   0.0              1.632000             1   \n",
              "\n",
              "      currency_crises  inflation_crises banking_crisis  \n",
              "0                   0                 0         crisis  \n",
              "1                   0                 0      no_crisis  \n",
              "2                   0                 0      no_crisis  \n",
              "3                   0                 0      no_crisis  \n",
              "4                   0                 0      no_crisis  \n",
              "...               ...               ...            ...  \n",
              "1054                1                 0         crisis  \n",
              "1055                0                 0      no_crisis  \n",
              "1056                0                 0      no_crisis  \n",
              "1057                0                 0      no_crisis  \n",
              "1058                0                 0      no_crisis  \n",
              "\n",
              "[1059 rows x 14 columns]"
            ]
          },
          "execution_count": 264,
          "metadata": {},
          "output_type": "execute_result"
        }
      ],
      "source": [
        "crises_df = pd.read_csv('African_crises_dataset.csv')\n",
        "crises_df"
      ]
    },
    {
      "cell_type": "code",
      "execution_count": 265,
      "metadata": {
        "colab": {
          "base_uri": "https://localhost:8080/"
        },
        "id": "FMZ5s9WhLPlG",
        "outputId": "d5fce10a-135a-4d19-924e-d3161b7a14d0"
      },
      "outputs": [
        {
          "name": "stdout",
          "output_type": "stream",
          "text": [
            "<class 'pandas.core.frame.DataFrame'>\n",
            "RangeIndex: 1059 entries, 0 to 1058\n",
            "Data columns (total 14 columns):\n",
            " #   Column                           Non-Null Count  Dtype  \n",
            "---  ------                           --------------  -----  \n",
            " 0   country_number                   1059 non-null   int64  \n",
            " 1   country_code                     1059 non-null   object \n",
            " 2   country                          1059 non-null   object \n",
            " 3   year                             1059 non-null   int64  \n",
            " 4   systemic_crisis                  1059 non-null   int64  \n",
            " 5   exch_usd                         1059 non-null   float64\n",
            " 6   domestic_debt_in_default         1059 non-null   int64  \n",
            " 7   sovereign_external_debt_default  1059 non-null   int64  \n",
            " 8   gdp_weighted_default             1059 non-null   float64\n",
            " 9   inflation_annual_cpi             1059 non-null   float64\n",
            " 10  independence                     1059 non-null   int64  \n",
            " 11  currency_crises                  1059 non-null   int64  \n",
            " 12  inflation_crises                 1059 non-null   int64  \n",
            " 13  banking_crisis                   1059 non-null   object \n",
            "dtypes: float64(3), int64(8), object(3)\n",
            "memory usage: 116.0+ KB\n"
          ]
        }
      ],
      "source": [
        "crises_df.info()"
      ]
    },
    {
      "cell_type": "code",
      "execution_count": 266,
      "metadata": {
        "colab": {
          "base_uri": "https://localhost:8080/",
          "height": 320
        },
        "id": "JoY513QdLPlH",
        "outputId": "f269eaaa-dd34-428e-ba76-182f95466f46"
      },
      "outputs": [
        {
          "data": {
            "text/html": [
              "<div>\n",
              "<style scoped>\n",
              "    .dataframe tbody tr th:only-of-type {\n",
              "        vertical-align: middle;\n",
              "    }\n",
              "\n",
              "    .dataframe tbody tr th {\n",
              "        vertical-align: top;\n",
              "    }\n",
              "\n",
              "    .dataframe thead th {\n",
              "        text-align: right;\n",
              "    }\n",
              "</style>\n",
              "<table border=\"1\" class=\"dataframe\">\n",
              "  <thead>\n",
              "    <tr style=\"text-align: right;\">\n",
              "      <th></th>\n",
              "      <th>country_number</th>\n",
              "      <th>year</th>\n",
              "      <th>systemic_crisis</th>\n",
              "      <th>exch_usd</th>\n",
              "      <th>domestic_debt_in_default</th>\n",
              "      <th>sovereign_external_debt_default</th>\n",
              "      <th>gdp_weighted_default</th>\n",
              "      <th>inflation_annual_cpi</th>\n",
              "      <th>independence</th>\n",
              "      <th>currency_crises</th>\n",
              "      <th>inflation_crises</th>\n",
              "    </tr>\n",
              "  </thead>\n",
              "  <tbody>\n",
              "    <tr>\n",
              "      <th>count</th>\n",
              "      <td>1059.000000</td>\n",
              "      <td>1059.000000</td>\n",
              "      <td>1059.000000</td>\n",
              "      <td>1059.000000</td>\n",
              "      <td>1059.000000</td>\n",
              "      <td>1059.000000</td>\n",
              "      <td>1059.000000</td>\n",
              "      <td>1.059000e+03</td>\n",
              "      <td>1059.000000</td>\n",
              "      <td>1059.000000</td>\n",
              "      <td>1059.000000</td>\n",
              "    </tr>\n",
              "    <tr>\n",
              "      <th>mean</th>\n",
              "      <td>35.613787</td>\n",
              "      <td>1967.767705</td>\n",
              "      <td>0.077432</td>\n",
              "      <td>43.140831</td>\n",
              "      <td>0.039660</td>\n",
              "      <td>0.152975</td>\n",
              "      <td>0.006402</td>\n",
              "      <td>2.084889e+04</td>\n",
              "      <td>0.776204</td>\n",
              "      <td>0.132200</td>\n",
              "      <td>0.129367</td>\n",
              "    </tr>\n",
              "    <tr>\n",
              "      <th>std</th>\n",
              "      <td>23.692402</td>\n",
              "      <td>33.530632</td>\n",
              "      <td>0.267401</td>\n",
              "      <td>111.475380</td>\n",
              "      <td>0.195251</td>\n",
              "      <td>0.360133</td>\n",
              "      <td>0.043572</td>\n",
              "      <td>6.757274e+05</td>\n",
              "      <td>0.416984</td>\n",
              "      <td>0.349847</td>\n",
              "      <td>0.335765</td>\n",
              "    </tr>\n",
              "    <tr>\n",
              "      <th>min</th>\n",
              "      <td>1.000000</td>\n",
              "      <td>1860.000000</td>\n",
              "      <td>0.000000</td>\n",
              "      <td>0.000000</td>\n",
              "      <td>0.000000</td>\n",
              "      <td>0.000000</td>\n",
              "      <td>0.000000</td>\n",
              "      <td>-2.850214e+01</td>\n",
              "      <td>0.000000</td>\n",
              "      <td>0.000000</td>\n",
              "      <td>0.000000</td>\n",
              "    </tr>\n",
              "    <tr>\n",
              "      <th>25%</th>\n",
              "      <td>15.000000</td>\n",
              "      <td>1951.000000</td>\n",
              "      <td>0.000000</td>\n",
              "      <td>0.195350</td>\n",
              "      <td>0.000000</td>\n",
              "      <td>0.000000</td>\n",
              "      <td>0.000000</td>\n",
              "      <td>2.086162e+00</td>\n",
              "      <td>1.000000</td>\n",
              "      <td>0.000000</td>\n",
              "      <td>0.000000</td>\n",
              "    </tr>\n",
              "    <tr>\n",
              "      <th>50%</th>\n",
              "      <td>38.000000</td>\n",
              "      <td>1973.000000</td>\n",
              "      <td>0.000000</td>\n",
              "      <td>0.868400</td>\n",
              "      <td>0.000000</td>\n",
              "      <td>0.000000</td>\n",
              "      <td>0.000000</td>\n",
              "      <td>5.762330e+00</td>\n",
              "      <td>1.000000</td>\n",
              "      <td>0.000000</td>\n",
              "      <td>0.000000</td>\n",
              "    </tr>\n",
              "    <tr>\n",
              "      <th>75%</th>\n",
              "      <td>56.000000</td>\n",
              "      <td>1994.000000</td>\n",
              "      <td>0.000000</td>\n",
              "      <td>8.462750</td>\n",
              "      <td>0.000000</td>\n",
              "      <td>0.000000</td>\n",
              "      <td>0.000000</td>\n",
              "      <td>1.164405e+01</td>\n",
              "      <td>1.000000</td>\n",
              "      <td>0.000000</td>\n",
              "      <td>0.000000</td>\n",
              "    </tr>\n",
              "    <tr>\n",
              "      <th>max</th>\n",
              "      <td>70.000000</td>\n",
              "      <td>2014.000000</td>\n",
              "      <td>1.000000</td>\n",
              "      <td>744.306139</td>\n",
              "      <td>1.000000</td>\n",
              "      <td>1.000000</td>\n",
              "      <td>0.400000</td>\n",
              "      <td>2.198970e+07</td>\n",
              "      <td>1.000000</td>\n",
              "      <td>2.000000</td>\n",
              "      <td>1.000000</td>\n",
              "    </tr>\n",
              "  </tbody>\n",
              "</table>\n",
              "</div>"
            ],
            "text/plain": [
              "       country_number         year  systemic_crisis     exch_usd  \\\n",
              "count     1059.000000  1059.000000      1059.000000  1059.000000   \n",
              "mean        35.613787  1967.767705         0.077432    43.140831   \n",
              "std         23.692402    33.530632         0.267401   111.475380   \n",
              "min          1.000000  1860.000000         0.000000     0.000000   \n",
              "25%         15.000000  1951.000000         0.000000     0.195350   \n",
              "50%         38.000000  1973.000000         0.000000     0.868400   \n",
              "75%         56.000000  1994.000000         0.000000     8.462750   \n",
              "max         70.000000  2014.000000         1.000000   744.306139   \n",
              "\n",
              "       domestic_debt_in_default  sovereign_external_debt_default  \\\n",
              "count               1059.000000                      1059.000000   \n",
              "mean                   0.039660                         0.152975   \n",
              "std                    0.195251                         0.360133   \n",
              "min                    0.000000                         0.000000   \n",
              "25%                    0.000000                         0.000000   \n",
              "50%                    0.000000                         0.000000   \n",
              "75%                    0.000000                         0.000000   \n",
              "max                    1.000000                         1.000000   \n",
              "\n",
              "       gdp_weighted_default  inflation_annual_cpi  independence  \\\n",
              "count           1059.000000          1.059000e+03   1059.000000   \n",
              "mean               0.006402          2.084889e+04      0.776204   \n",
              "std                0.043572          6.757274e+05      0.416984   \n",
              "min                0.000000         -2.850214e+01      0.000000   \n",
              "25%                0.000000          2.086162e+00      1.000000   \n",
              "50%                0.000000          5.762330e+00      1.000000   \n",
              "75%                0.000000          1.164405e+01      1.000000   \n",
              "max                0.400000          2.198970e+07      1.000000   \n",
              "\n",
              "       currency_crises  inflation_crises  \n",
              "count      1059.000000       1059.000000  \n",
              "mean          0.132200          0.129367  \n",
              "std           0.349847          0.335765  \n",
              "min           0.000000          0.000000  \n",
              "25%           0.000000          0.000000  \n",
              "50%           0.000000          0.000000  \n",
              "75%           0.000000          0.000000  \n",
              "max           2.000000          1.000000  "
            ]
          },
          "execution_count": 266,
          "metadata": {},
          "output_type": "execute_result"
        }
      ],
      "source": [
        "crises_df.describe()"
      ]
    },
    {
      "cell_type": "markdown",
      "metadata": {
        "id": "xWYpta15LPlK"
      },
      "source": [
        "From the ydata profiling report, there are no missing nor duplicated values, but there are outliers in two numerical columns."
      ]
    },
    {
      "cell_type": "code",
      "execution_count": 267,
      "metadata": {
        "colab": {
          "base_uri": "https://localhost:8080/",
          "height": 542
        },
        "id": "5mpMmAGxLPlP",
        "outputId": "7234f5a6-cd81-4f7e-b0e9-f86280cefc66"
      },
      "outputs": [
        {
          "data": {
            "application/vnd.plotly.v1+json": {
              "config": {
                "plotlyServerURL": "https://plot.ly"
              },
              "data": [
                {
                  "alignmentgroup": "True",
                  "hovertemplate": "inflation_annual_cpi=%{x}<extra></extra>",
                  "legendgroup": "",
                  "marker": {
                    "color": "#636efa"
                  },
                  "name": "",
                  "notched": false,
                  "offsetgroup": "",
                  "orientation": "h",
                  "showlegend": false,
                  "type": "box",
                  "x": [
                    3.441455696,
                    14.14913958,
                    -3.718592965,
                    11.20389701,
                    -3.848560701,
                    -20.92417833,
                    -1.769547325,
                    29.11604525,
                    -1.492537313,
                    -16.83135705,
                    3.881188119,
                    12.61913839,
                    -12.35612729,
                    -1.390498262,
                    -15.94202899,
                    9.756097561,
                    22.22222222,
                    16.36363636,
                    28.125,
                    46.34146341,
                    41.66666667,
                    29.41176471,
                    18.18181818,
                    69.23076923,
                    63.63636364,
                    23.61111111,
                    0,
                    6.741573034,
                    6.315789474,
                    -0.99009901,
                    1,
                    0,
                    1.98019802,
                    2.912621359,
                    12.26415094,
                    9.243697479,
                    5.384615385,
                    2.919708029,
                    6.599987838,
                    2.626631862,
                    3.656320975,
                    6.172816266,
                    4.734228715,
                    8.961134756,
                    8.87917187,
                    12.09893382,
                    17.17351914,
                    11.45037883,
                    9.668492611,
                    14.60957788,
                    9.668,
                    14.61,
                    6.593,
                    7.835,
                    6.31,
                    10.432,
                    14.007,
                    5.857,
                    5.938,
                    9.172,
                    9.272,
                    25.9,
                    31.7,
                    20.5,
                    29,
                    29.8,
                    18.7,
                    5.7,
                    4.95,
                    2.6,
                    0.3,
                    4.2,
                    1.43,
                    4.259,
                    3.972,
                    1.382,
                    2.315,
                    3.674,
                    4.855,
                    5.743,
                    3.913,
                    4.522,
                    8.916,
                    3.255,
                    2.917,
                    29.62962963,
                    45.71428571,
                    68.62745098,
                    126.744186,
                    -27.17948718,
                    -7.042253521,
                    -17.42424242,
                    -9.174311927,
                    -5.050505051,
                    -5.319148936,
                    0,
                    -2.247191011,
                    2.298850575,
                    3.370786517,
                    5.434782609,
                    -1.030927835,
                    2.083333333,
                    2.040816327,
                    1,
                    13.86138614,
                    16.52173913,
                    17.91044776,
                    13.92405063,
                    7.777777778,
                    5.154639175,
                    4.901960784,
                    13.55140187,
                    -16.87242798,
                    -0.99009901,
                    4,
                    -7.692307692,
                    3.125,
                    0,
                    -4.04040404,
                    0,
                    3.157894737,
                    1.020408163,
                    2.02020202,
                    0,
                    -0.99009901,
                    2,
                    5.882352941,
                    7.965434021,
                    5.777758599,
                    15.79827455,
                    15.67485015,
                    27.41525989,
                    29.00043489,
                    80.69990445,
                    69.00935079,
                    48.46106867,
                    101.3013176,
                    46.70755462,
                    85.265,
                    299.097,
                    1379.476,
                    949.771,
                    2672.23,
                    4146.01,
                    221.492,
                    107.429,
                    248.248,
                    325.029,
                    152.586,
                    108.893,
                    98.342,
                    43.559,
                    22.961,
                    13.305,
                    12.249,
                    12.465,
                    13.721,
                    14.48,
                    13.484,
                    10.285,
                    8.782,
                    7.296,
                    6.818181818,
                    12.76595745,
                    3.773584906,
                    10.90909091,
                    6.557377049,
                    7.692307692,
                    3.714285714,
                    10.05509642,
                    9.386733417,
                    2.745995423,
                    1.893095768,
                    4.808743169,
                    0.521376434,
                    3.734439834,
                    27.69953052,
                    -8.823529412,
                    5.64516129,
                    9.541984733,
                    16.02787456,
                    10.51051051,
                    11.14130435,
                    11.49144254,
                    9.210526316,
                    13.3,
                    14.66,
                    13.243,
                    14.558,
                    2.604,
                    10.457,
                    2.411,
                    -6.986,
                    -3.934,
                    0.645,
                    -0.203,
                    -2.848,
                    -0.757,
                    -2.909,
                    24.55,
                    19.2,
                    3.723,
                    1.597,
                    -1.871,
                    -1.415,
                    3.202,
                    3.843,
                    2.298,
                    4.353,
                    -2.244,
                    2.885,
                    6.694,
                    0.935,
                    9.262,
                    3.522,
                    1.491,
                    1.195,
                    5.874,
                    6.552,
                    11.584,
                    16.21609969,
                    2.326185353,
                    -2.273304086,
                    2.326185353,
                    4.54479533,
                    13.04340287,
                    21.15476063,
                    6.348281887,
                    -2.152483452,
                    14.43033046,
                    -0.177568901,
                    8.719549217,
                    -3.169044947,
                    1.757528693,
                    4.665098294,
                    2.766186537,
                    7.747595621,
                    2.502927383,
                    8.075116891,
                    -1.07225635,
                    1.194615424,
                    12.9325741,
                    18.22418299,
                    10.61769304,
                    12.90885269,
                    24.48243736,
                    16.03173523,
                    21.75954473,
                    8.81,
                    8.682,
                    7.389,
                    5.879,
                    4.281,
                    1.753,
                    6.837,
                    6.978,
                    6.935,
                    0.986,
                    -0.658,
                    1.575,
                    4.218,
                    2.13,
                    25.956,
                    14.1,
                    2.7,
                    6.301,
                    5.219,
                    0.92,
                    -0.381,
                    4.355,
                    3.08,
                    3.297,
                    1.459,
                    3.884,
                    2.466,
                    1.896,
                    6.315,
                    1.009,
                    1.8,
                    4.448,
                    1.3,
                    2.584,
                    0.449,
                    5.944477972,
                    5.952720023,
                    5.940860215,
                    5.95026643,
                    5.951383068,
                    5.944846293,
                    5.941967143,
                    5.95106233,
                    5.94943927,
                    5.938284894,
                    5.952582557,
                    12.97850236,
                    -4.201740115,
                    -4.171896921,
                    1.556480197,
                    -8.528072838,
                    -10.87425348,
                    -0.43741275,
                    -0.514114788,
                    10.55153622,
                    1.784803672,
                    -12.40814963,
                    4.232602479,
                    -2.231571246,
                    -0.477081384,
                    -6.438575054,
                    3.616636528,
                    -2.840798914,
                    -6.216944417,
                    -12.33241115,
                    7.949993931,
                    10.17539915,
                    1.959383611,
                    -13.92253028,
                    -4.953488372,
                    -5.578664057,
                    9.70458668,
                    2.846344632,
                    14.21681213,
                    -6.374422378,
                    7.388316151,
                    0.11,
                    -0.549395665,
                    -7.533145842,
                    -2.639582881,
                    15.36315966,
                    9.448742747,
                    1.307767076,
                    8.87047536,
                    1.185707419,
                    -11.7418844,
                    1.291827398,
                    6.24391108,
                    11.40380127,
                    -1.137384017,
                    -16.00060551,
                    19.326921,
                    35.4800225,
                    18.04671609,
                    12.1743099,
                    20.60262757,
                    -28.50213688,
                    -11.8067676,
                    -10.90447887,
                    7.201266764,
                    5.682103785,
                    -11.35479535,
                    -8.356955722,
                    4.5057024,
                    -3.339660342,
                    -6.922294859,
                    -5.020231154,
                    -10.84823995,
                    -9.7931274,
                    23.96925479,
                    5.648570427,
                    -7.249727068,
                    -1.022813275,
                    11.43314281,
                    -1.435148115,
                    10.38362042,
                    24.18818835,
                    40.76638415,
                    17.48643148,
                    11.37938502,
                    0,
                    2.119179547,
                    -3.112803427,
                    0.713958211,
                    0,
                    8.510015609,
                    7.599868141,
                    -10.25483916,
                    -0.952735624,
                    -2.885699962,
                    0,
                    3.961929343,
                    3.249231915,
                    -1.340547039,
                    0.694613697,
                    0.726128525,
                    1.17746005,
                    -4.203776274,
                    2.060865254,
                    7.824338769,
                    13.12090131,
                    6.693697414,
                    0.119617553,
                    0.455818017,
                    3.676736584,
                    3.36871659,
                    2.942979233,
                    2.424102664,
                    5.740312478,
                    10.64040499,
                    9.899265451,
                    10.29192345,
                    11.61462645,
                    11.27087249,
                    9.90279235,
                    20.5,
                    10.4,
                    14.9,
                    15.982,
                    17.06,
                    12.108,
                    23.9,
                    25.185,
                    15.185,
                    20.129,
                    21.219,
                    14.737,
                    21.142,
                    11.042,
                    9.046,
                    9.361,
                    7.095,
                    6.167,
                    5.041,
                    3.745,
                    2.849,
                    2.431,
                    3.21,
                    0,
                    8.106,
                    8.826,
                    4.202,
                    10.959,
                    11.698,
                    16.24,
                    11.69,
                    11.09,
                    8.65,
                    6.914,
                    10.099,
                    9.339830607,
                    3.522920204,
                    8.553710537,
                    10.87767339,
                    6.450926123,
                    3.032,
                    4.410280301,
                    6.369450435,
                    1.786276086,
                    2.630675184,
                    0,
                    0.856645697,
                    0.846051758,
                    2.520151341,
                    2.740605244,
                    0,
                    -0.285715557,
                    5.762329909,
                    3.761913134,
                    0.537398087,
                    0.661865236,
                    -0.131090559,
                    1.832593812,
                    5.614773537,
                    4.52521913,
                    12.66289775,
                    16.41376144,
                    19.7347384,
                    9.527607326,
                    18.01088176,
                    15.35621451,
                    8.080283232,
                    13.866,
                    7.895,
                    13.821,
                    11.603,
                    20.667,
                    11.398,
                    10.284,
                    13.007,
                    4.804,
                    7.617,
                    11.2,
                    19.104,
                    27.332,
                    45.979,
                    28.814,
                    1.554,
                    8.862,
                    11.924,
                    6.716,
                    5.753,
                    9.955,
                    5.824,
                    2.156,
                    5.983,
                    8.381,
                    7.823,
                    6.041,
                    4.265,
                    15.101,
                    10.552,
                    4.309,
                    14.022,
                    9.378,
                    5.717,
                    6.878,
                    -9.090909091,
                    31.99785465,
                    1.023932388,
                    4.904878735,
                    11.15115499,
                    1.941981994,
                    -0.634431887,
                    0.956872627,
                    -0.315372291,
                    2.857481221,
                    -0.926032535,
                    0.622571969,
                    -0.618719992,
                    1.8693761,
                    -0.612777053,
                    0.798570117,
                    1.753672463,
                    1.8269885,
                    1.893322561,
                    2.982014118,
                    2.937830401,
                    5.329676052,
                    2.978677387,
                    0.011228728,
                    1.886196037,
                    5.551930333,
                    20.82296472,
                    23.79801683,
                    15.20534955,
                    10.75945144,
                    9.794534493,
                    9.063188827,
                    23.21616753,
                    33.04,
                    26.45,
                    13.384,
                    7.452,
                    5.525,
                    8.321,
                    4.336,
                    0.719,
                    3.6,
                    13.61,
                    10.705,
                    12.817,
                    2.857,
                    15.288,
                    7.335,
                    6.026,
                    6.553,
                    6.831,
                    6.808,
                    6.872,
                    4.23,
                    5.391,
                    6.414,
                    3.931,
                    4.703,
                    4.921,
                    8.93,
                    8.827,
                    9.731,
                    2.516,
                    2.929,
                    6.526,
                    4.902,
                    4.131,
                    3.772,
                    25,
                    32,
                    38.1935295,
                    28.50635593,
                    34.8116396,
                    18.98618075,
                    56.75522894,
                    57.47303544,
                    40.14656285,
                    22.99979203,
                    1.625584232,
                    23.2010648,
                    5.194366741,
                    -1.234239604,
                    2.49932689,
                    5.86226574,
                    5.714750199,
                    2.317242942,
                    4.383973421,
                    -2.171161818,
                    2.219347442,
                    2.27574134,
                    5.408269117,
                    5.738828475,
                    4.233330742,
                    2.481368989,
                    -0.234959675,
                    -1.126519599,
                    1.138535071,
                    1.691647635,
                    1.915840245,
                    4.397441072,
                    3.211368966,
                    7.193348119,
                    15.97890765,
                    7.00696628,
                    10.97328486,
                    10.81415052,
                    9.720054887,
                    8.651393052,
                    9.408,
                    12.493,
                    10.528,
                    6.208,
                    12.448,
                    7.729,
                    8.734,
                    2.699,
                    2.369,
                    3.138,
                    6.026,
                    8.991,
                    5.74,
                    5.183,
                    5.142,
                    6.124,
                    2.987,
                    1.041,
                    2.745,
                    0.69,
                    1.923,
                    0.613,
                    2.779,
                    1.163,
                    1.493,
                    0.983,
                    3.285,
                    2.036,
                    3.891,
                    0.972,
                    0.994,
                    0.907,
                    1.287,
                    1.881,
                    0.443,
                    3.10291645,
                    6.173562277,
                    6.862909067,
                    1.546396847,
                    -3.399990138,
                    4.707596881,
                    4.325727898,
                    6.217386806,
                    2.911602856,
                    -1.028492383,
                    0.938030761,
                    4.601492449,
                    8.140460297,
                    -4.55304656,
                    2.733415482,
                    11.00320434,
                    13.41347233,
                    15.47842436,
                    -0.008248214,
                    11.67346946,
                    11.25943742,
                    38.50391131,
                    18.33643443,
                    22.3551061,
                    15.78133117,
                    10.06822352,
                    9.97,
                    20.555,
                    5.882,
                    22.222,
                    40.909,
                    3.226,
                    6.25,
                    11.765,
                    34.211,
                    49.02,
                    7.895,
                    44.565,
                    57.143,
                    57.416,
                    72.729,
                    29.292,
                    10.673,
                    7.862,
                    6.618,
                    6.938,
                    18.869,
                    12.883,
                    14.033,
                    15.001,
                    17.856,
                    8.218,
                    5.413,
                    11.581,
                    12.543,
                    13.72,
                    10.841,
                    12.225,
                    8.495,
                    8.048,
                    4.109589041,
                    9.204368175,
                    2.414285714,
                    -8.236853118,
                    -5.130348864,
                    -6.753725365,
                    -7.251482086,
                    -1.556276054,
                    -1.590288887,
                    4.838401224,
                    15.38672018,
                    3.999683819,
                    2.561374173,
                    1.252408478,
                    1.236917222,
                    4.87275882,
                    5.81828209,
                    9.889250814,
                    7.001422812,
                    0.93079949,
                    35.18691332,
                    -18.07365899,
                    -3.95519429,
                    0.758592218,
                    0,
                    -1.505761844,
                    -1.523581717,
                    2.323371,
                    -0.758592218,
                    -1.523581717,
                    -2.328651389,
                    -3.968211061,
                    -5.432640883,
                    2.39909513,
                    -1.453403872,
                    -0.44835113,
                    0.906666667,
                    5.63777308,
                    -0.32243718,
                    0.858895706,
                    3.926122539,
                    6.02851974,
                    8.671651528,
                    4.964211498,
                    3.884733832,
                    0.762291958,
                    6.060606061,
                    4.287695661,
                    6.847285025,
                    2.564102564,
                    6.875866852,
                    7.653375726,
                    6.609004882,
                    0.777385159,
                    3.8457223,
                    1.699035682,
                    1.888446215,
                    3.263731394,
                    3.160578598,
                    0.785513275,
                    1.583062206,
                    2.079449304,
                    1.325278636,
                    1.005222535,
                    4.141937863,
                    3.489437844,
                    3.638360819,
                    2.151507653,
                    3.045535464,
                    3.812391596,
                    4.882526907,
                    6.705448811,
                    8.431511329,
                    10.76861601,
                    13.81223876,
                    11.25107466,
                    11.31771632,
                    10.21066965,
                    12.23442663,
                    13.89287442,
                    14.236,
                    15.741,
                    14.4,
                    12.587,
                    11.18,
                    16.201,
                    18.75,
                    16.194,
                    12.892,
                    14.506,
                    14.286,
                    15.566,
                    13.673,
                    9.874,
                    8.824,
                    8.709,
                    7.32,
                    8.623,
                    6.872,
                    5.211,
                    5.374,
                    5.7,
                    9.177,
                    5.806,
                    1.392,
                    3.393,
                    4.688,
                    7.09,
                    11.536,
                    7.13,
                    4.257,
                    5,
                    5.654,
                    5.752,
                    22.01300157,
                    24.58203197,
                    24.99631323,
                    72.10948561,
                    37.61310666,
                    13.77833126,
                    49.61253886,
                    67.09975712,
                    69.14172635,
                    4.156960191,
                    3.502982107,
                    15.03591871,
                    7.006177993,
                    -0.595293824,
                    4.192011553,
                    0,
                    4.807532957,
                    5.504844321,
                    5.216941093,
                    -8.264216667,
                    1.801884462,
                    -1.769991264,
                    5.78395737,
                    0.970776621,
                    5.939573494,
                    5.549985502,
                    4.536102074,
                    2.843700217,
                    2.498763969,
                    2.804694188,
                    1.562639485,
                    4.253194018,
                    2.715966924,
                    5.784875818,
                    4.685641394,
                    10.05684308,
                    3.293128476,
                    8.19487405,
                    4.63026082,
                    8.557119849,
                    10.011,
                    8.903,
                    13.673,
                    8.972,
                    8.596,
                    7.551,
                    6.159,
                    8.224,
                    7.156,
                    7.722,
                    6.502,
                    7.693,
                    5.518,
                    4.04,
                    5.423,
                    6.232,
                    3.733,
                    3.599,
                    3.102,
                    2.768,
                    2.77,
                    1.987,
                    2.706,
                    2.724,
                    3.621,
                    1.444,
                    4.143,
                    3.438,
                    4.913,
                    3.53,
                    4.409,
                    3.541,
                    5.139,
                    5.805,
                    4.924,
                    2.857142857,
                    2.777777778,
                    2.702702703,
                    7.894736842,
                    2.43902439,
                    4.761904762,
                    2.272727273,
                    4.444444444,
                    6.382978723,
                    4,
                    3.846153846,
                    3.703703704,
                    3.571428571,
                    3.103448276,
                    3.177257525,
                    1.13452188,
                    2.083333333,
                    3.453689168,
                    0.151745068,
                    1.363636364,
                    -0.448430493,
                    3.003003003,
                    8.163265306,
                    10.2425876,
                    5.012224939,
                    10.71012806,
                    2.523659306,
                    2.564102564,
                    6.52173913,
                    4.761904762,
                    6.493506494,
                    7.926829268,
                    10.16949153,
                    18.97435897,
                    19.82758621,
                    16.18705036,
                    9.59752322,
                    11.729,
                    13.997,
                    12.495,
                    19.692,
                    20.019,
                    37.43,
                    54.8,
                    47.028,
                    54.042,
                    128.294,
                    109.558,
                    97.701,
                    165.725,
                    183.263,
                    54.614,
                    34.905,
                    43.095,
                    24.41,
                    24.456,
                    26.79,
                    26.1,
                    21.357,
                    22.239,
                    21.4,
                    17.969,
                    18.325,
                    9.017,
                    10.655,
                    12.449,
                    13.392,
                    8.5,
                    8.658,
                    6.575,
                    6.978,
                    7.811,
                    -17.24137931,
                    -13.88888889,
                    -4.032258065,
                    0.847457627,
                    0.840336134,
                    0,
                    -5,
                    -7.01754386,
                    -3.773584906,
                    -2.941176471,
                    -1.01010101,
                    0,
                    -1.020408163,
                    6.18556701,
                    -2.912621359,
                    0.906344411,
                    2.994011976,
                    3.779069767,
                    5.602240896,
                    6.100795756,
                    3,
                    2.669902913,
                    5.200945626,
                    2.921348315,
                    9.388646288,
                    3.79241517,
                    7.692307692,
                    6.964285714,
                    8.180300501,
                    2.777777778,
                    0,
                    1.651651652,
                    4.431314623,
                    2.97029703,
                    3.571428571,
                    2.652519894,
                    2.454780362,
                    2.90037831,
                    2.083333333,
                    1.080432173,
                    2.500022554,
                    2.500003432,
                    3.121953195,
                    2.365179967,
                    1.38631904,
                    0.364644862,
                    2.088991186,
                    3.024884047,
                    2.84975748,
                    3.106641376,
                    6.596092646,
                    10.00764002,
                    11.0416805,
                    10.25640067,
                    8.229915112,
                    12.55279758,
                    7.2,
                    13.2,
                    10.4,
                    23.2,
                    20.3,
                    8.3,
                    14.5,
                    12.5,
                    7.4,
                    12.8,
                    17.4,
                    24,
                    41.6,
                    28.2,
                    21.11354311,
                    25.80873955,
                    16.40028408,
                    20.0650384,
                    46.61127497,
                    56.92320336,
                    55.20369616,
                    112.1184112,
                    198.928606,
                    598.7447505,
                    132.7467739,
                    585.8443656,
                    1281.113605,
                    66279.89237,
                    21989695.22,
                    -7.67,
                    3.217,
                    4.92,
                    3.72,
                    1.632
                  ],
                  "x0": " ",
                  "xaxis": "x",
                  "y0": " ",
                  "yaxis": "y"
                }
              ],
              "layout": {
                "boxmode": "group",
                "legend": {
                  "tracegroupgap": 0
                },
                "margin": {
                  "t": 60
                },
                "template": {
                  "data": {
                    "bar": [
                      {
                        "error_x": {
                          "color": "#2a3f5f"
                        },
                        "error_y": {
                          "color": "#2a3f5f"
                        },
                        "marker": {
                          "line": {
                            "color": "#E5ECF6",
                            "width": 0.5
                          },
                          "pattern": {
                            "fillmode": "overlay",
                            "size": 10,
                            "solidity": 0.2
                          }
                        },
                        "type": "bar"
                      }
                    ],
                    "barpolar": [
                      {
                        "marker": {
                          "line": {
                            "color": "#E5ECF6",
                            "width": 0.5
                          },
                          "pattern": {
                            "fillmode": "overlay",
                            "size": 10,
                            "solidity": 0.2
                          }
                        },
                        "type": "barpolar"
                      }
                    ],
                    "carpet": [
                      {
                        "aaxis": {
                          "endlinecolor": "#2a3f5f",
                          "gridcolor": "white",
                          "linecolor": "white",
                          "minorgridcolor": "white",
                          "startlinecolor": "#2a3f5f"
                        },
                        "baxis": {
                          "endlinecolor": "#2a3f5f",
                          "gridcolor": "white",
                          "linecolor": "white",
                          "minorgridcolor": "white",
                          "startlinecolor": "#2a3f5f"
                        },
                        "type": "carpet"
                      }
                    ],
                    "choropleth": [
                      {
                        "colorbar": {
                          "outlinewidth": 0,
                          "ticks": ""
                        },
                        "type": "choropleth"
                      }
                    ],
                    "contour": [
                      {
                        "colorbar": {
                          "outlinewidth": 0,
                          "ticks": ""
                        },
                        "colorscale": [
                          [
                            0,
                            "#0d0887"
                          ],
                          [
                            0.1111111111111111,
                            "#46039f"
                          ],
                          [
                            0.2222222222222222,
                            "#7201a8"
                          ],
                          [
                            0.3333333333333333,
                            "#9c179e"
                          ],
                          [
                            0.4444444444444444,
                            "#bd3786"
                          ],
                          [
                            0.5555555555555556,
                            "#d8576b"
                          ],
                          [
                            0.6666666666666666,
                            "#ed7953"
                          ],
                          [
                            0.7777777777777778,
                            "#fb9f3a"
                          ],
                          [
                            0.8888888888888888,
                            "#fdca26"
                          ],
                          [
                            1,
                            "#f0f921"
                          ]
                        ],
                        "type": "contour"
                      }
                    ],
                    "contourcarpet": [
                      {
                        "colorbar": {
                          "outlinewidth": 0,
                          "ticks": ""
                        },
                        "type": "contourcarpet"
                      }
                    ],
                    "heatmap": [
                      {
                        "colorbar": {
                          "outlinewidth": 0,
                          "ticks": ""
                        },
                        "colorscale": [
                          [
                            0,
                            "#0d0887"
                          ],
                          [
                            0.1111111111111111,
                            "#46039f"
                          ],
                          [
                            0.2222222222222222,
                            "#7201a8"
                          ],
                          [
                            0.3333333333333333,
                            "#9c179e"
                          ],
                          [
                            0.4444444444444444,
                            "#bd3786"
                          ],
                          [
                            0.5555555555555556,
                            "#d8576b"
                          ],
                          [
                            0.6666666666666666,
                            "#ed7953"
                          ],
                          [
                            0.7777777777777778,
                            "#fb9f3a"
                          ],
                          [
                            0.8888888888888888,
                            "#fdca26"
                          ],
                          [
                            1,
                            "#f0f921"
                          ]
                        ],
                        "type": "heatmap"
                      }
                    ],
                    "heatmapgl": [
                      {
                        "colorbar": {
                          "outlinewidth": 0,
                          "ticks": ""
                        },
                        "colorscale": [
                          [
                            0,
                            "#0d0887"
                          ],
                          [
                            0.1111111111111111,
                            "#46039f"
                          ],
                          [
                            0.2222222222222222,
                            "#7201a8"
                          ],
                          [
                            0.3333333333333333,
                            "#9c179e"
                          ],
                          [
                            0.4444444444444444,
                            "#bd3786"
                          ],
                          [
                            0.5555555555555556,
                            "#d8576b"
                          ],
                          [
                            0.6666666666666666,
                            "#ed7953"
                          ],
                          [
                            0.7777777777777778,
                            "#fb9f3a"
                          ],
                          [
                            0.8888888888888888,
                            "#fdca26"
                          ],
                          [
                            1,
                            "#f0f921"
                          ]
                        ],
                        "type": "heatmapgl"
                      }
                    ],
                    "histogram": [
                      {
                        "marker": {
                          "pattern": {
                            "fillmode": "overlay",
                            "size": 10,
                            "solidity": 0.2
                          }
                        },
                        "type": "histogram"
                      }
                    ],
                    "histogram2d": [
                      {
                        "colorbar": {
                          "outlinewidth": 0,
                          "ticks": ""
                        },
                        "colorscale": [
                          [
                            0,
                            "#0d0887"
                          ],
                          [
                            0.1111111111111111,
                            "#46039f"
                          ],
                          [
                            0.2222222222222222,
                            "#7201a8"
                          ],
                          [
                            0.3333333333333333,
                            "#9c179e"
                          ],
                          [
                            0.4444444444444444,
                            "#bd3786"
                          ],
                          [
                            0.5555555555555556,
                            "#d8576b"
                          ],
                          [
                            0.6666666666666666,
                            "#ed7953"
                          ],
                          [
                            0.7777777777777778,
                            "#fb9f3a"
                          ],
                          [
                            0.8888888888888888,
                            "#fdca26"
                          ],
                          [
                            1,
                            "#f0f921"
                          ]
                        ],
                        "type": "histogram2d"
                      }
                    ],
                    "histogram2dcontour": [
                      {
                        "colorbar": {
                          "outlinewidth": 0,
                          "ticks": ""
                        },
                        "colorscale": [
                          [
                            0,
                            "#0d0887"
                          ],
                          [
                            0.1111111111111111,
                            "#46039f"
                          ],
                          [
                            0.2222222222222222,
                            "#7201a8"
                          ],
                          [
                            0.3333333333333333,
                            "#9c179e"
                          ],
                          [
                            0.4444444444444444,
                            "#bd3786"
                          ],
                          [
                            0.5555555555555556,
                            "#d8576b"
                          ],
                          [
                            0.6666666666666666,
                            "#ed7953"
                          ],
                          [
                            0.7777777777777778,
                            "#fb9f3a"
                          ],
                          [
                            0.8888888888888888,
                            "#fdca26"
                          ],
                          [
                            1,
                            "#f0f921"
                          ]
                        ],
                        "type": "histogram2dcontour"
                      }
                    ],
                    "mesh3d": [
                      {
                        "colorbar": {
                          "outlinewidth": 0,
                          "ticks": ""
                        },
                        "type": "mesh3d"
                      }
                    ],
                    "parcoords": [
                      {
                        "line": {
                          "colorbar": {
                            "outlinewidth": 0,
                            "ticks": ""
                          }
                        },
                        "type": "parcoords"
                      }
                    ],
                    "pie": [
                      {
                        "automargin": true,
                        "type": "pie"
                      }
                    ],
                    "scatter": [
                      {
                        "fillpattern": {
                          "fillmode": "overlay",
                          "size": 10,
                          "solidity": 0.2
                        },
                        "type": "scatter"
                      }
                    ],
                    "scatter3d": [
                      {
                        "line": {
                          "colorbar": {
                            "outlinewidth": 0,
                            "ticks": ""
                          }
                        },
                        "marker": {
                          "colorbar": {
                            "outlinewidth": 0,
                            "ticks": ""
                          }
                        },
                        "type": "scatter3d"
                      }
                    ],
                    "scattercarpet": [
                      {
                        "marker": {
                          "colorbar": {
                            "outlinewidth": 0,
                            "ticks": ""
                          }
                        },
                        "type": "scattercarpet"
                      }
                    ],
                    "scattergeo": [
                      {
                        "marker": {
                          "colorbar": {
                            "outlinewidth": 0,
                            "ticks": ""
                          }
                        },
                        "type": "scattergeo"
                      }
                    ],
                    "scattergl": [
                      {
                        "marker": {
                          "colorbar": {
                            "outlinewidth": 0,
                            "ticks": ""
                          }
                        },
                        "type": "scattergl"
                      }
                    ],
                    "scattermapbox": [
                      {
                        "marker": {
                          "colorbar": {
                            "outlinewidth": 0,
                            "ticks": ""
                          }
                        },
                        "type": "scattermapbox"
                      }
                    ],
                    "scatterpolar": [
                      {
                        "marker": {
                          "colorbar": {
                            "outlinewidth": 0,
                            "ticks": ""
                          }
                        },
                        "type": "scatterpolar"
                      }
                    ],
                    "scatterpolargl": [
                      {
                        "marker": {
                          "colorbar": {
                            "outlinewidth": 0,
                            "ticks": ""
                          }
                        },
                        "type": "scatterpolargl"
                      }
                    ],
                    "scatterternary": [
                      {
                        "marker": {
                          "colorbar": {
                            "outlinewidth": 0,
                            "ticks": ""
                          }
                        },
                        "type": "scatterternary"
                      }
                    ],
                    "surface": [
                      {
                        "colorbar": {
                          "outlinewidth": 0,
                          "ticks": ""
                        },
                        "colorscale": [
                          [
                            0,
                            "#0d0887"
                          ],
                          [
                            0.1111111111111111,
                            "#46039f"
                          ],
                          [
                            0.2222222222222222,
                            "#7201a8"
                          ],
                          [
                            0.3333333333333333,
                            "#9c179e"
                          ],
                          [
                            0.4444444444444444,
                            "#bd3786"
                          ],
                          [
                            0.5555555555555556,
                            "#d8576b"
                          ],
                          [
                            0.6666666666666666,
                            "#ed7953"
                          ],
                          [
                            0.7777777777777778,
                            "#fb9f3a"
                          ],
                          [
                            0.8888888888888888,
                            "#fdca26"
                          ],
                          [
                            1,
                            "#f0f921"
                          ]
                        ],
                        "type": "surface"
                      }
                    ],
                    "table": [
                      {
                        "cells": {
                          "fill": {
                            "color": "#EBF0F8"
                          },
                          "line": {
                            "color": "white"
                          }
                        },
                        "header": {
                          "fill": {
                            "color": "#C8D4E3"
                          },
                          "line": {
                            "color": "white"
                          }
                        },
                        "type": "table"
                      }
                    ]
                  },
                  "layout": {
                    "annotationdefaults": {
                      "arrowcolor": "#2a3f5f",
                      "arrowhead": 0,
                      "arrowwidth": 1
                    },
                    "autotypenumbers": "strict",
                    "coloraxis": {
                      "colorbar": {
                        "outlinewidth": 0,
                        "ticks": ""
                      }
                    },
                    "colorscale": {
                      "diverging": [
                        [
                          0,
                          "#8e0152"
                        ],
                        [
                          0.1,
                          "#c51b7d"
                        ],
                        [
                          0.2,
                          "#de77ae"
                        ],
                        [
                          0.3,
                          "#f1b6da"
                        ],
                        [
                          0.4,
                          "#fde0ef"
                        ],
                        [
                          0.5,
                          "#f7f7f7"
                        ],
                        [
                          0.6,
                          "#e6f5d0"
                        ],
                        [
                          0.7,
                          "#b8e186"
                        ],
                        [
                          0.8,
                          "#7fbc41"
                        ],
                        [
                          0.9,
                          "#4d9221"
                        ],
                        [
                          1,
                          "#276419"
                        ]
                      ],
                      "sequential": [
                        [
                          0,
                          "#0d0887"
                        ],
                        [
                          0.1111111111111111,
                          "#46039f"
                        ],
                        [
                          0.2222222222222222,
                          "#7201a8"
                        ],
                        [
                          0.3333333333333333,
                          "#9c179e"
                        ],
                        [
                          0.4444444444444444,
                          "#bd3786"
                        ],
                        [
                          0.5555555555555556,
                          "#d8576b"
                        ],
                        [
                          0.6666666666666666,
                          "#ed7953"
                        ],
                        [
                          0.7777777777777778,
                          "#fb9f3a"
                        ],
                        [
                          0.8888888888888888,
                          "#fdca26"
                        ],
                        [
                          1,
                          "#f0f921"
                        ]
                      ],
                      "sequentialminus": [
                        [
                          0,
                          "#0d0887"
                        ],
                        [
                          0.1111111111111111,
                          "#46039f"
                        ],
                        [
                          0.2222222222222222,
                          "#7201a8"
                        ],
                        [
                          0.3333333333333333,
                          "#9c179e"
                        ],
                        [
                          0.4444444444444444,
                          "#bd3786"
                        ],
                        [
                          0.5555555555555556,
                          "#d8576b"
                        ],
                        [
                          0.6666666666666666,
                          "#ed7953"
                        ],
                        [
                          0.7777777777777778,
                          "#fb9f3a"
                        ],
                        [
                          0.8888888888888888,
                          "#fdca26"
                        ],
                        [
                          1,
                          "#f0f921"
                        ]
                      ]
                    },
                    "colorway": [
                      "#636efa",
                      "#EF553B",
                      "#00cc96",
                      "#ab63fa",
                      "#FFA15A",
                      "#19d3f3",
                      "#FF6692",
                      "#B6E880",
                      "#FF97FF",
                      "#FECB52"
                    ],
                    "font": {
                      "color": "#2a3f5f"
                    },
                    "geo": {
                      "bgcolor": "white",
                      "lakecolor": "white",
                      "landcolor": "#E5ECF6",
                      "showlakes": true,
                      "showland": true,
                      "subunitcolor": "white"
                    },
                    "hoverlabel": {
                      "align": "left"
                    },
                    "hovermode": "closest",
                    "mapbox": {
                      "style": "light"
                    },
                    "paper_bgcolor": "white",
                    "plot_bgcolor": "#E5ECF6",
                    "polar": {
                      "angularaxis": {
                        "gridcolor": "white",
                        "linecolor": "white",
                        "ticks": ""
                      },
                      "bgcolor": "#E5ECF6",
                      "radialaxis": {
                        "gridcolor": "white",
                        "linecolor": "white",
                        "ticks": ""
                      }
                    },
                    "scene": {
                      "xaxis": {
                        "backgroundcolor": "#E5ECF6",
                        "gridcolor": "white",
                        "gridwidth": 2,
                        "linecolor": "white",
                        "showbackground": true,
                        "ticks": "",
                        "zerolinecolor": "white"
                      },
                      "yaxis": {
                        "backgroundcolor": "#E5ECF6",
                        "gridcolor": "white",
                        "gridwidth": 2,
                        "linecolor": "white",
                        "showbackground": true,
                        "ticks": "",
                        "zerolinecolor": "white"
                      },
                      "zaxis": {
                        "backgroundcolor": "#E5ECF6",
                        "gridcolor": "white",
                        "gridwidth": 2,
                        "linecolor": "white",
                        "showbackground": true,
                        "ticks": "",
                        "zerolinecolor": "white"
                      }
                    },
                    "shapedefaults": {
                      "line": {
                        "color": "#2a3f5f"
                      }
                    },
                    "ternary": {
                      "aaxis": {
                        "gridcolor": "white",
                        "linecolor": "white",
                        "ticks": ""
                      },
                      "baxis": {
                        "gridcolor": "white",
                        "linecolor": "white",
                        "ticks": ""
                      },
                      "bgcolor": "#E5ECF6",
                      "caxis": {
                        "gridcolor": "white",
                        "linecolor": "white",
                        "ticks": ""
                      }
                    },
                    "title": {
                      "x": 0.05
                    },
                    "xaxis": {
                      "automargin": true,
                      "gridcolor": "white",
                      "linecolor": "white",
                      "ticks": "",
                      "title": {
                        "standoff": 15
                      },
                      "zerolinecolor": "white",
                      "zerolinewidth": 2
                    },
                    "yaxis": {
                      "automargin": true,
                      "gridcolor": "white",
                      "linecolor": "white",
                      "ticks": "",
                      "title": {
                        "standoff": 15
                      },
                      "zerolinecolor": "white",
                      "zerolinewidth": 2
                    }
                  }
                },
                "xaxis": {
                  "anchor": "y",
                  "domain": [
                    0,
                    1
                  ],
                  "title": {
                    "text": "inflation_annual_cpi"
                  }
                },
                "yaxis": {
                  "anchor": "x",
                  "domain": [
                    0,
                    1
                  ]
                }
              }
            }
          },
          "metadata": {},
          "output_type": "display_data"
        }
      ],
      "source": [
        "# plot a boxplot to check for outliers\n",
        "fig = px.box(crises_df, x ='inflation_annual_cpi')\n",
        "fig.show()"
      ]
    },
    {
      "cell_type": "code",
      "execution_count": 268,
      "metadata": {
        "colab": {
          "base_uri": "https://localhost:8080/",
          "height": 542
        },
        "id": "tiNajhw2LPlR",
        "outputId": "63ad5761-f611-4048-c8d9-8155da2b2c7f"
      },
      "outputs": [
        {
          "data": {
            "application/vnd.plotly.v1+json": {
              "config": {
                "plotlyServerURL": "https://plot.ly"
              },
              "data": [
                {
                  "alignmentgroup": "True",
                  "hovertemplate": "exch_usd=%{x}<extra></extra>",
                  "legendgroup": "",
                  "marker": {
                    "color": "#636efa"
                  },
                  "name": "",
                  "notched": false,
                  "offsetgroup": "",
                  "orientation": "h",
                  "showlegend": false,
                  "type": "box",
                  "x": [
                    0.052264,
                    0.052798,
                    0.052274,
                    0.05168,
                    0.051308,
                    0.051546,
                    0.051867,
                    0.051867,
                    0.051948,
                    0.052029,
                    0.052356,
                    0.052029,
                    0.050761,
                    0.052002,
                    0.052165,
                    0.44903,
                    0.49189,
                    0.44937,
                    0.75,
                    0.5,
                    0.5,
                    1.191,
                    1.191,
                    1.193,
                    2.662,
                    3.49,
                    3.499,
                    3.5,
                    3.5,
                    3.5,
                    3.5,
                    3.5,
                    3.5,
                    4.199,
                    4.906,
                    4.909,
                    4.93706,
                    4.93706,
                    4.93706,
                    4.93706,
                    4.93706,
                    4.644,
                    4.556,
                    4.185,
                    3.997,
                    4.125,
                    4.359,
                    4.035,
                    3.8345,
                    3.7555,
                    3.9715,
                    4.378,
                    4.6355,
                    4.9165,
                    5.1227,
                    4.7728,
                    4.8235,
                    4.9363,
                    6.7308,
                    8.0324,
                    12.1908,
                    21.3919,
                    22.7814,
                    24.123,
                    42.8925,
                    52.175,
                    56.1859,
                    58.4139,
                    60.3531,
                    69.3143,
                    75.3428,
                    77.8196,
                    79.7234,
                    72.6128,
                    72.6137,
                    73.3799,
                    71.1582,
                    66.8299,
                    71.1826,
                    72.7309,
                    74.9437,
                    76.0563,
                    78.1025,
                    78.1487013,
                    87.9706983,
                    1.25e-8,
                    2.21e-8,
                    2.81e-8,
                    2.08e-8,
                    1.95e-8,
                    1.95e-8,
                    2.02e-8,
                    2.27e-8,
                    2.22e-8,
                    2.23e-8,
                    3.1e-8,
                    3.31e-8,
                    2.13e-8,
                    2.22e-8,
                    2.23e-8,
                    2.25e-8,
                    2.21e-8,
                    2.36e-8,
                    2.77e-8,
                    2.51e-8,
                    2.5e-8,
                    2.5e-8,
                    2.5e-8,
                    2.5e-8,
                    2.5e-8,
                    2.63e-8,
                    2.5e-8,
                    2.58e-8,
                    2.86e-8,
                    2.91e-8,
                    2.91e-8,
                    2.9e-8,
                    2.9e-8,
                    2.88e-8,
                    2.88e-8,
                    2.88e-8,
                    2.88e-8,
                    2.88e-8,
                    2.89e-8,
                    2.88e-8,
                    2.88e-8,
                    2.89e-8,
                    2.88e-8,
                    2.76e-8,
                    2.7e-8,
                    2.58e-8,
                    2.46e-8,
                    2.75e-8,
                    2.99e-8,
                    2.99e-8,
                    2.99e-8,
                    2.99e-8,
                    2.99e-8,
                    1.8e-7,
                    5.5e-7,
                    0.0000065,
                    0.000509262,
                    0.005692,
                    0.201994,
                    0.262376,
                    0.6965,
                    5.57992,
                    16.81784,
                    31.94936,
                    58.66637,
                    79.08149,
                    85.98779,
                    80.77951,
                    80.26442,
                    75.023,
                    75.169,
                    89.398,
                    92.643,
                    95.272,
                    95.82588521,
                    97.56,
                    101.49,
                    209.9498515,
                    245.2998265,
                    245.4498264,
                    245.1298266,
                    245.0648267,
                    245.0048267,
                    245.0998266,
                    245.0048267,
                    245.0748266,
                    247.5898249,
                    245.4248264,
                    247.404825,
                    277.9148034,
                    276.0248048,
                    261.2248152,
                    256.0498189,
                    235.4248335,
                    222.2248428,
                    224.2748413,
                    248.4873242,
                    235.2498335,
                    208.9998521,
                    200.9998578,
                    225.7998402,
                    287.3997967,
                    336.2497621,
                    417.3747047,
                    479.5996607,
                    378.0497326,
                    322.7497717,
                    266.9998111,
                    302.9497857,
                    289.3997953,
                    256.4498186,
                    258.9998168,
                    275.3248052,
                    294.7747915,
                    534.5996218,
                    489.9996534,
                    523.6996296,
                    598.8095764,
                    562.2096023,
                    652.9534143,
                    704.9511016,
                    744.3061387,
                    625.4953752,
                    519.3642122,
                    481.5777109,
                    556.0371281,
                    498.0690964,
                    445.5926907,
                    471.3350578,
                    455.3359711,
                    490.9122886,
                    506.9611253,
                    497.1631044,
                    475.6413603,
                    540.2825138,
                    0,
                    0,
                    0,
                    0,
                    0,
                    0,
                    0,
                    0,
                    0,
                    0,
                    0,
                    0,
                    0,
                    0,
                    0,
                    0,
                    0,
                    0,
                    278,
                    264,
                    255.5,
                    238,
                    222,
                    220,
                    247,
                    236,
                    243.5,
                    205,
                    221,
                    290,
                    352,
                    450,
                    486.5,
                    380,
                    319,
                    277,
                    310,
                    305,
                    267,
                    265,
                    278,
                    297,
                    540,
                    495,
                    525.7,
                    616,
                    576,
                    0,
                    0,
                    0,
                    0,
                    0,
                    0,
                    0,
                    0,
                    0,
                    0,
                    0,
                    0,
                    0,
                    0,
                    0,
                    0,
                    0.20661157,
                    0.20661157,
                    0.20661157,
                    0.20661157,
                    0.20661157,
                    0.20661157,
                    0.20661157,
                    0.20661157,
                    0.20661157,
                    0.1967,
                    0.196,
                    0.1978,
                    0.1984,
                    0.197,
                    0.198,
                    0.1941,
                    0.1983,
                    0.1955,
                    0.1967,
                    0.1981,
                    0.201,
                    0.2,
                    0.1998,
                    0.1998,
                    0.2003,
                    0.1991,
                    0.2007,
                    0.1999,
                    0.1987,
                    0.2005,
                    0.2003,
                    0.201,
                    0.1993,
                    0.1983,
                    0.199,
                    0.1971,
                    0.1976,
                    0.1986,
                    0.1985,
                    0.1951,
                    0.1999,
                    0.1975,
                    0.1988,
                    0.2009,
                    0.1994,
                    0.201,
                    0.2003,
                    0.2006,
                    0.1994,
                    0.1995,
                    0.1999,
                    0.1996,
                    0.1998,
                    0.2007,
                    0.1996,
                    0.206,
                    0.2049,
                    0.2049,
                    0.2042,
                    0.2554,
                    0.2787,
                    0.2343,
                    0.2112,
                    0.2244,
                    0.2074,
                    0.2008,
                    0.2011,
                    0.1998,
                    0.201,
                    0.1998,
                    0.2008,
                    0.289,
                    0.2975,
                    0.1906,
                    0.1971,
                    0.1979,
                    0.1987,
                    0.1952,
                    0.2088,
                    0.2481,
                    0.2416,
                    0.2416,
                    0.2416,
                    0.2416,
                    0.2416,
                    0.2416,
                    0.2416,
                    0.2416,
                    0.2416,
                    0.3484,
                    0.3484,
                    0.3484,
                    0.3484,
                    0.3484,
                    0.3484,
                    0.3484,
                    0.3484,
                    0.3509,
                    0.3509,
                    0.3509,
                    0.3509,
                    0.3509,
                    0.4348,
                    0.4348,
                    0.4348,
                    0.4348,
                    0.4348,
                    0.4348,
                    0.4348,
                    0.4348,
                    0.4348,
                    0.4348,
                    0.4348,
                    0.4348,
                    0.3913,
                    0.3913,
                    0.3913,
                    0.3913,
                    0.3913,
                    0.7,
                    0.699999999,
                    0.699999999,
                    0.699999999,
                    0.699999999,
                    0.7,
                    0.7,
                    0.7,
                    0.7,
                    0.7,
                    1.1,
                    2,
                    3.33221,
                    3.33861,
                    3.3718,
                    3.391,
                    3.39,
                    3.388,
                    3.388,
                    3.388,
                    3.405,
                    3.69,
                    4.49,
                    4.5,
                    6.1532,
                    6.1314,
                    5.7322,
                    5.7036,
                    5.5038,
                    5.5041,
                    5.4754,
                    5.7926,
                    6.0169,
                    6.3057,
                    6.94,
                    7.15,
                    4.9582,
                    4.9582,
                    7.1428,
                    7.1428,
                    7.1428,
                    7.1428,
                    7.1429,
                    7.1429,
                    7.1429,
                    7.1429,
                    7.1429,
                    7.1429,
                    7.1429,
                    7.1429,
                    7.1429,
                    7.1429,
                    7.1429,
                    7.1429,
                    7.1429,
                    7.1429,
                    7.1429,
                    7.1429,
                    7.1429,
                    7.1429,
                    7.1429,
                    6.9,
                    7.1429,
                    7.1429,
                    8.27,
                    7.9471,
                    7.1588,
                    7.3276,
                    7.568499999,
                    10.2862,
                    12.7249,
                    13.7959,
                    15.7813,
                    16.2843,
                    16.0422,
                    16.5149,
                    18.5994,
                    21.601,
                    24.0841,
                    28.0741,
                    36.2163,
                    68.1631,
                    44.8389,
                    55.9389,
                    55.0211,
                    62.6778,
                    61.9056,
                    72.9306,
                    78.0361,
                    78.6,
                    77.0722,
                    76.1389,
                    77.3444,
                    72.3667,
                    69.3967,
                    62.675,
                    77.71111111,
                    75.82,
                    80.75194444,
                    85.0681,
                    86.0008,
                    86.31,
                    89.35,
                    3.3085,
                    3.3085,
                    4.7619,
                    4.7619,
                    4.79201,
                    4.74495,
                    4.74292,
                    4.78754,
                    4.75544,
                    4.78651,
                    4.66297,
                    4.75764,
                    4.76189,
                    4.75544,
                    4.74816,
                    4.75764,
                    4.76768,
                    4.77879,
                    4.75714,
                    4.77862,
                    5.541,
                    5.59189,
                    5.55392,
                    5.57016,
                    5.22362,
                    5.6783,
                    5.7392,
                    5.6774,
                    6.5892,
                    6.639,
                    6.3503,
                    5.921,
                    7.5855,
                    7.8349,
                    10.3293,
                    10.8605,
                    12.7233,
                    15.6033,
                    14.31,
                    13.1367,
                    12.1752,
                    13.8337,
                    14.996,
                    14.322,
                    14.7939,
                    16.998,
                    18.6558,
                    17.8626,
                    17.6641,
                    17.9715,
                    22.265,
                    24.7835,
                    25.468,
                    27.8817,
                    30.3942,
                    29.1968,
                    26.0877,
                    28.2044,
                    30.6666,
                    34.3368,
                    28.2162,
                    31.7555,
                    30.2905,
                    30.39,
                    29.33,
                    30.52,
                    30.12512987,
                    31.7374584,
                    0.917,
                    0.917,
                    0.75,
                    0.5,
                    0.5674,
                    0.5657,
                    1.2228,
                    1.2228,
                    1.2228,
                    2.197,
                    3.5824,
                    3.5824,
                    3.5824,
                    3.5824,
                    3.5824,
                    3.5824,
                    3.5824,
                    3.5875,
                    4.2958,
                    4.908,
                    5.0605,
                    5.0605,
                    5.0241,
                    5.0226,
                    5.0226,
                    5.0235,
                    5.0265,
                    5.0276,
                    5.0409,
                    5.0493,
                    5.0269,
                    4.76,
                    4.5569,
                    3.8851,
                    4.1548,
                    3.8379,
                    4.2041,
                    4.32,
                    3.88645,
                    3.7388,
                    4.334149999,
                    5.333349999,
                    6.267549999,
                    8.060999999,
                    9.551199999,
                    9.621299999,
                    8.7117,
                    7.8003,
                    8.2106,
                    8.1218,
                    8.0429,
                    8.1499,
                    9.0487,
                    9.6512,
                    8.9596,
                    8.4689,
                    8.7995,
                    9.7141,
                    9.2551,
                    10.087,
                    10.619,
                    11.56,
                    10.167,
                    8.7499,
                    8.2177,
                    9.2494,
                    8.4566,
                    7.7132,
                    8.0982,
                    7.8601,
                    8.3569,
                    8.5772,
                    8.4335,
                    8.15,
                    8.82,
                    0,
                    0,
                    0,
                    0,
                    0,
                    0,
                    0,
                    0,
                    0,
                    0,
                    0,
                    0,
                    0,
                    0,
                    0,
                    0,
                    0,
                    0,
                    0,
                    0.657894999,
                    0.616218881,
                    0.614665929,
                    0.631074088,
                    0.651380928,
                    0.64808814,
                    0.570613409,
                    0.544454729,
                    0.636902109,
                    0.670241287,
                    0.748559024,
                    0.808276754,
                    0.99960016,
                    3.316749585,
                    4.140786749,
                    5.353319058,
                    7.651109411,
                    9.00090009,
                    19.64636542,
                    21.88183807,
                    21.99736032,
                    21.88662727,
                    21.8861,
                    21.886,
                    21.886,
                    97.95,
                    109.55,
                    112.95,
                    126.4,
                    136.5,
                    132.35,
                    129,
                    128.27,
                    117.968,
                    132.5625,
                    149.581,
                    150.6617,
                    158.267,
                    155.27,
                    155.2,
                    155.25,
                    0.2061,
                    0.2045,
                    0.2049,
                    0.2047,
                    0.20455,
                    0.20485,
                    0.2053,
                    0.20405,
                    0.2052,
                    0.2049,
                    0.2048,
                    0.2051,
                    0.20485,
                    0.20485,
                    0.18925,
                    0.2063,
                    0.20965,
                    0.20985,
                    0.2098,
                    0.20985,
                    0.2532,
                    0.2406,
                    0.21695,
                    0.21295,
                    0.21295,
                    0.20575,
                    0.2056,
                    0.2065,
                    0.2065,
                    0.2065,
                    0.2065,
                    0.2065,
                    0.2084,
                    0.19635,
                    0.1963,
                    0.20385,
                    0.2008,
                    0.202,
                    0.2012,
                    0.21565,
                    0.25125,
                    0.25125,
                    0.25125,
                    0.25125,
                    0.25125,
                    0.2497,
                    0.2497,
                    0.3077,
                    0.28985,
                    0.31745,
                    0.35715,
                    0.35715,
                    0.35715,
                    0.35715,
                    0.35715,
                    0.35715,
                    0.35715,
                    0.3568,
                    0.3554,
                    0.35555,
                    0.3557,
                    0.3557,
                    0.3557,
                    0.3573,
                    0.3576,
                    0.3571,
                    0.3571,
                    0.7093,
                    0.7119,
                    0.7149,
                    0.7131,
                    0.696,
                    0.7394,
                    0.6667,
                    0.6678,
                    0.6725,
                    0.8673,
                    0.8681,
                    0.8684,
                    0.8244,
                    0.745378653,
                    0.956571648,
                    1.076310408,
                    1.221896383,
                    1.984914649,
                    2.557544764,
                    2.183406114,
                    1.929943067,
                    2.377725468,
                    2.536011361,
                    2.562525625,
                    2.743032697,
                    3.053,
                    3.3975,
                    3.5435,
                    3.6475,
                    4.6825,
                    4.8675,
                    5.86,
                    6.1545,
                    7.5685,
                    12.1265,
                    8.64,
                    6.64,
                    5.63,
                    6.325,
                    6.97,
                    6.81,
                    9.305,
                    7.38,
                    6.6316,
                    8.1429,
                    8.50115,
                    10.48985,
                    49.189,
                    44.937,
                    129.831,
                    50,
                    55.355,
                    55.191,
                    119.3,
                    119.3,
                    119.3,
                    214.34,
                    349.5,
                    349.5,
                    349.5,
                    349.5,
                    349.5,
                    349.5,
                    349.5,
                    350,
                    0.4197,
                    0.42,
                    0.42,
                    0.42,
                    0.42,
                    0.42,
                    0.42,
                    0.52,
                    0.52,
                    0.52,
                    0.52,
                    0.52,
                    0.52,
                    0.48,
                    0.475,
                    0.3865,
                    0.425,
                    0.4712,
                    0.5587,
                    0.4275,
                    0.46,
                    0.405,
                    0.418699999,
                    0.515649999,
                    0.615749999,
                    0.7271,
                    0.8666,
                    0.75695,
                    0.8402,
                    0.77785,
                    0.89845,
                    0.9046,
                    0.83675,
                    0.8645,
                    0.95065,
                    1.0466,
                    0.9912,
                    0.9508,
                    0.9985,
                    1.1475,
                    1.101,
                    1.2525,
                    1.3853,
                    1.4683,
                    1.3341,
                    1.2083,
                    1.1994,
                    1.3634,
                    1.2971,
                    1.2207,
                    1.3099,
                    1.3173,
                    1.4379,
                    1.4993,
                    1.5506,
                    1.653095696,
                    1.862411798,
                    0.0004976,
                    0.0004976,
                    0.0004968,
                    0.0004968,
                    0.0004958,
                    0.000496,
                    0.0007142,
                    0.000714,
                    0.000719,
                    0.0007118,
                    0.0007116,
                    0.000718,
                    0.0007136,
                    0.000718,
                    0.000712,
                    0.0007138,
                    0.0007144,
                    0.0007134,
                    0.0007122,
                    0.0007136,
                    0.000715,
                    0.0007168,
                    0.0007136,
                    0.0007168,
                    0.0007104,
                    0.0007168,
                    0.0007126,
                    0.0007141,
                    0.0007143,
                    0.0007143,
                    0.0006429,
                    0.0006429,
                    0.0006429,
                    0.0007934,
                    0.0007589,
                    0.0007862,
                    0.0007775,
                    0.0008031,
                    0.00088,
                    0.0009285,
                    0.001236,
                    0.002105,
                    0.00563,
                    0.01448,
                    0.0077,
                    0.0095,
                    0.01841,
                    0.0459,
                    0.08733,
                    0.31496,
                    0.561,
                    0.699,
                    0.978,
                    1.287,
                    1.44,
                    2.425,
                    2.76,
                    4.45,
                    3.735,
                    4.5,
                    4.4,
                    4.6,
                    3.34,
                    4.41722,
                    3.83,
                    4.83226,
                    4.631,
                    4.7899,
                    5.11398,
                    5.1466133,
                    5.52,
                    6.3856,
                    4.81e-27,
                    4.34e-27,
                    4.59e-27,
                    4.1000000000000006e-27,
                    4.12e-27,
                    4.1000000000000006e-27,
                    4.12e-27,
                    5.9300000000000006e-27,
                    6.100000000000001e-27,
                    3.91e-27,
                    4.0400000000000005e-27,
                    4.06e-27,
                    4.08e-27,
                    4e-27,
                    4.28e-27,
                    5.09e-27,
                    4.9600000000000006e-27,
                    4.9600000000000006e-27,
                    4.9600000000000006e-27,
                    4.9600000000000006e-27,
                    4.9600000000000006e-27,
                    4.9600000000000006e-27,
                    4.9600000000000006e-27,
                    4.9600000000000006e-27,
                    4.9600000000000006e-27,
                    7.140000000000001e-27,
                    7.140000000000001e-27,
                    7.140000000000001e-27,
                    7.140000000000001e-27,
                    7.140000000000001e-27,
                    7.140000000000001e-27,
                    7.140000000000001e-27,
                    7.18e-27,
                    7.1e-27,
                    7.1e-27,
                    7.12e-27,
                    7.150000000000001e-27,
                    7.11e-27,
                    7.140000000000001e-27,
                    7.140000000000001e-27,
                    7.140000000000001e-27,
                    7.140000000000001e-27,
                    7.140000000000001e-27,
                    7.140000000000001e-27,
                    7.140000000000001e-27,
                    7.140000000000001e-27,
                    7.16e-27,
                    6.71e-27,
                    6.520000000000001e-27,
                    6.06e-27,
                    5.490000000000001e-27,
                    6.25e-27,
                    6.190000000000001e-27,
                    6.470000000000001e-27,
                    6.750000000000001e-27,
                    6.740000000000001e-27,
                    6.31e-27,
                    7.23e-27,
                    7.39e-27,
                    1.11e-26,
                    1.4500000000000002e-26,
                    1.63e-26,
                    1.68e-26,
                    1.6e-26,
                    1.93e-26,
                    2.22e-26,
                    2.61e-26,
                    5.04e-26,
                    5.37e-26,
                    6.81e-26,
                    8.38e-26,
                    9.31e-26,
                    1.08e-25,
                    1.83e-25,
                    3.71e-25,
                    3.72e-25,
                    5.5e-25,
                    5.51e-25,
                    5.5e-25,
                    7.949999999999999e-24,
                    5.600000000000001e-23,
                    8.46e-22,
                    3e-19,
                    1.9e-16,
                    0.002,
                    354.8,
                    378.2,
                    361.9,
                    361.9,
                    361.9
                  ],
                  "x0": " ",
                  "xaxis": "x",
                  "y0": " ",
                  "yaxis": "y"
                }
              ],
              "layout": {
                "boxmode": "group",
                "legend": {
                  "tracegroupgap": 0
                },
                "margin": {
                  "t": 60
                },
                "template": {
                  "data": {
                    "bar": [
                      {
                        "error_x": {
                          "color": "#2a3f5f"
                        },
                        "error_y": {
                          "color": "#2a3f5f"
                        },
                        "marker": {
                          "line": {
                            "color": "#E5ECF6",
                            "width": 0.5
                          },
                          "pattern": {
                            "fillmode": "overlay",
                            "size": 10,
                            "solidity": 0.2
                          }
                        },
                        "type": "bar"
                      }
                    ],
                    "barpolar": [
                      {
                        "marker": {
                          "line": {
                            "color": "#E5ECF6",
                            "width": 0.5
                          },
                          "pattern": {
                            "fillmode": "overlay",
                            "size": 10,
                            "solidity": 0.2
                          }
                        },
                        "type": "barpolar"
                      }
                    ],
                    "carpet": [
                      {
                        "aaxis": {
                          "endlinecolor": "#2a3f5f",
                          "gridcolor": "white",
                          "linecolor": "white",
                          "minorgridcolor": "white",
                          "startlinecolor": "#2a3f5f"
                        },
                        "baxis": {
                          "endlinecolor": "#2a3f5f",
                          "gridcolor": "white",
                          "linecolor": "white",
                          "minorgridcolor": "white",
                          "startlinecolor": "#2a3f5f"
                        },
                        "type": "carpet"
                      }
                    ],
                    "choropleth": [
                      {
                        "colorbar": {
                          "outlinewidth": 0,
                          "ticks": ""
                        },
                        "type": "choropleth"
                      }
                    ],
                    "contour": [
                      {
                        "colorbar": {
                          "outlinewidth": 0,
                          "ticks": ""
                        },
                        "colorscale": [
                          [
                            0,
                            "#0d0887"
                          ],
                          [
                            0.1111111111111111,
                            "#46039f"
                          ],
                          [
                            0.2222222222222222,
                            "#7201a8"
                          ],
                          [
                            0.3333333333333333,
                            "#9c179e"
                          ],
                          [
                            0.4444444444444444,
                            "#bd3786"
                          ],
                          [
                            0.5555555555555556,
                            "#d8576b"
                          ],
                          [
                            0.6666666666666666,
                            "#ed7953"
                          ],
                          [
                            0.7777777777777778,
                            "#fb9f3a"
                          ],
                          [
                            0.8888888888888888,
                            "#fdca26"
                          ],
                          [
                            1,
                            "#f0f921"
                          ]
                        ],
                        "type": "contour"
                      }
                    ],
                    "contourcarpet": [
                      {
                        "colorbar": {
                          "outlinewidth": 0,
                          "ticks": ""
                        },
                        "type": "contourcarpet"
                      }
                    ],
                    "heatmap": [
                      {
                        "colorbar": {
                          "outlinewidth": 0,
                          "ticks": ""
                        },
                        "colorscale": [
                          [
                            0,
                            "#0d0887"
                          ],
                          [
                            0.1111111111111111,
                            "#46039f"
                          ],
                          [
                            0.2222222222222222,
                            "#7201a8"
                          ],
                          [
                            0.3333333333333333,
                            "#9c179e"
                          ],
                          [
                            0.4444444444444444,
                            "#bd3786"
                          ],
                          [
                            0.5555555555555556,
                            "#d8576b"
                          ],
                          [
                            0.6666666666666666,
                            "#ed7953"
                          ],
                          [
                            0.7777777777777778,
                            "#fb9f3a"
                          ],
                          [
                            0.8888888888888888,
                            "#fdca26"
                          ],
                          [
                            1,
                            "#f0f921"
                          ]
                        ],
                        "type": "heatmap"
                      }
                    ],
                    "heatmapgl": [
                      {
                        "colorbar": {
                          "outlinewidth": 0,
                          "ticks": ""
                        },
                        "colorscale": [
                          [
                            0,
                            "#0d0887"
                          ],
                          [
                            0.1111111111111111,
                            "#46039f"
                          ],
                          [
                            0.2222222222222222,
                            "#7201a8"
                          ],
                          [
                            0.3333333333333333,
                            "#9c179e"
                          ],
                          [
                            0.4444444444444444,
                            "#bd3786"
                          ],
                          [
                            0.5555555555555556,
                            "#d8576b"
                          ],
                          [
                            0.6666666666666666,
                            "#ed7953"
                          ],
                          [
                            0.7777777777777778,
                            "#fb9f3a"
                          ],
                          [
                            0.8888888888888888,
                            "#fdca26"
                          ],
                          [
                            1,
                            "#f0f921"
                          ]
                        ],
                        "type": "heatmapgl"
                      }
                    ],
                    "histogram": [
                      {
                        "marker": {
                          "pattern": {
                            "fillmode": "overlay",
                            "size": 10,
                            "solidity": 0.2
                          }
                        },
                        "type": "histogram"
                      }
                    ],
                    "histogram2d": [
                      {
                        "colorbar": {
                          "outlinewidth": 0,
                          "ticks": ""
                        },
                        "colorscale": [
                          [
                            0,
                            "#0d0887"
                          ],
                          [
                            0.1111111111111111,
                            "#46039f"
                          ],
                          [
                            0.2222222222222222,
                            "#7201a8"
                          ],
                          [
                            0.3333333333333333,
                            "#9c179e"
                          ],
                          [
                            0.4444444444444444,
                            "#bd3786"
                          ],
                          [
                            0.5555555555555556,
                            "#d8576b"
                          ],
                          [
                            0.6666666666666666,
                            "#ed7953"
                          ],
                          [
                            0.7777777777777778,
                            "#fb9f3a"
                          ],
                          [
                            0.8888888888888888,
                            "#fdca26"
                          ],
                          [
                            1,
                            "#f0f921"
                          ]
                        ],
                        "type": "histogram2d"
                      }
                    ],
                    "histogram2dcontour": [
                      {
                        "colorbar": {
                          "outlinewidth": 0,
                          "ticks": ""
                        },
                        "colorscale": [
                          [
                            0,
                            "#0d0887"
                          ],
                          [
                            0.1111111111111111,
                            "#46039f"
                          ],
                          [
                            0.2222222222222222,
                            "#7201a8"
                          ],
                          [
                            0.3333333333333333,
                            "#9c179e"
                          ],
                          [
                            0.4444444444444444,
                            "#bd3786"
                          ],
                          [
                            0.5555555555555556,
                            "#d8576b"
                          ],
                          [
                            0.6666666666666666,
                            "#ed7953"
                          ],
                          [
                            0.7777777777777778,
                            "#fb9f3a"
                          ],
                          [
                            0.8888888888888888,
                            "#fdca26"
                          ],
                          [
                            1,
                            "#f0f921"
                          ]
                        ],
                        "type": "histogram2dcontour"
                      }
                    ],
                    "mesh3d": [
                      {
                        "colorbar": {
                          "outlinewidth": 0,
                          "ticks": ""
                        },
                        "type": "mesh3d"
                      }
                    ],
                    "parcoords": [
                      {
                        "line": {
                          "colorbar": {
                            "outlinewidth": 0,
                            "ticks": ""
                          }
                        },
                        "type": "parcoords"
                      }
                    ],
                    "pie": [
                      {
                        "automargin": true,
                        "type": "pie"
                      }
                    ],
                    "scatter": [
                      {
                        "fillpattern": {
                          "fillmode": "overlay",
                          "size": 10,
                          "solidity": 0.2
                        },
                        "type": "scatter"
                      }
                    ],
                    "scatter3d": [
                      {
                        "line": {
                          "colorbar": {
                            "outlinewidth": 0,
                            "ticks": ""
                          }
                        },
                        "marker": {
                          "colorbar": {
                            "outlinewidth": 0,
                            "ticks": ""
                          }
                        },
                        "type": "scatter3d"
                      }
                    ],
                    "scattercarpet": [
                      {
                        "marker": {
                          "colorbar": {
                            "outlinewidth": 0,
                            "ticks": ""
                          }
                        },
                        "type": "scattercarpet"
                      }
                    ],
                    "scattergeo": [
                      {
                        "marker": {
                          "colorbar": {
                            "outlinewidth": 0,
                            "ticks": ""
                          }
                        },
                        "type": "scattergeo"
                      }
                    ],
                    "scattergl": [
                      {
                        "marker": {
                          "colorbar": {
                            "outlinewidth": 0,
                            "ticks": ""
                          }
                        },
                        "type": "scattergl"
                      }
                    ],
                    "scattermapbox": [
                      {
                        "marker": {
                          "colorbar": {
                            "outlinewidth": 0,
                            "ticks": ""
                          }
                        },
                        "type": "scattermapbox"
                      }
                    ],
                    "scatterpolar": [
                      {
                        "marker": {
                          "colorbar": {
                            "outlinewidth": 0,
                            "ticks": ""
                          }
                        },
                        "type": "scatterpolar"
                      }
                    ],
                    "scatterpolargl": [
                      {
                        "marker": {
                          "colorbar": {
                            "outlinewidth": 0,
                            "ticks": ""
                          }
                        },
                        "type": "scatterpolargl"
                      }
                    ],
                    "scatterternary": [
                      {
                        "marker": {
                          "colorbar": {
                            "outlinewidth": 0,
                            "ticks": ""
                          }
                        },
                        "type": "scatterternary"
                      }
                    ],
                    "surface": [
                      {
                        "colorbar": {
                          "outlinewidth": 0,
                          "ticks": ""
                        },
                        "colorscale": [
                          [
                            0,
                            "#0d0887"
                          ],
                          [
                            0.1111111111111111,
                            "#46039f"
                          ],
                          [
                            0.2222222222222222,
                            "#7201a8"
                          ],
                          [
                            0.3333333333333333,
                            "#9c179e"
                          ],
                          [
                            0.4444444444444444,
                            "#bd3786"
                          ],
                          [
                            0.5555555555555556,
                            "#d8576b"
                          ],
                          [
                            0.6666666666666666,
                            "#ed7953"
                          ],
                          [
                            0.7777777777777778,
                            "#fb9f3a"
                          ],
                          [
                            0.8888888888888888,
                            "#fdca26"
                          ],
                          [
                            1,
                            "#f0f921"
                          ]
                        ],
                        "type": "surface"
                      }
                    ],
                    "table": [
                      {
                        "cells": {
                          "fill": {
                            "color": "#EBF0F8"
                          },
                          "line": {
                            "color": "white"
                          }
                        },
                        "header": {
                          "fill": {
                            "color": "#C8D4E3"
                          },
                          "line": {
                            "color": "white"
                          }
                        },
                        "type": "table"
                      }
                    ]
                  },
                  "layout": {
                    "annotationdefaults": {
                      "arrowcolor": "#2a3f5f",
                      "arrowhead": 0,
                      "arrowwidth": 1
                    },
                    "autotypenumbers": "strict",
                    "coloraxis": {
                      "colorbar": {
                        "outlinewidth": 0,
                        "ticks": ""
                      }
                    },
                    "colorscale": {
                      "diverging": [
                        [
                          0,
                          "#8e0152"
                        ],
                        [
                          0.1,
                          "#c51b7d"
                        ],
                        [
                          0.2,
                          "#de77ae"
                        ],
                        [
                          0.3,
                          "#f1b6da"
                        ],
                        [
                          0.4,
                          "#fde0ef"
                        ],
                        [
                          0.5,
                          "#f7f7f7"
                        ],
                        [
                          0.6,
                          "#e6f5d0"
                        ],
                        [
                          0.7,
                          "#b8e186"
                        ],
                        [
                          0.8,
                          "#7fbc41"
                        ],
                        [
                          0.9,
                          "#4d9221"
                        ],
                        [
                          1,
                          "#276419"
                        ]
                      ],
                      "sequential": [
                        [
                          0,
                          "#0d0887"
                        ],
                        [
                          0.1111111111111111,
                          "#46039f"
                        ],
                        [
                          0.2222222222222222,
                          "#7201a8"
                        ],
                        [
                          0.3333333333333333,
                          "#9c179e"
                        ],
                        [
                          0.4444444444444444,
                          "#bd3786"
                        ],
                        [
                          0.5555555555555556,
                          "#d8576b"
                        ],
                        [
                          0.6666666666666666,
                          "#ed7953"
                        ],
                        [
                          0.7777777777777778,
                          "#fb9f3a"
                        ],
                        [
                          0.8888888888888888,
                          "#fdca26"
                        ],
                        [
                          1,
                          "#f0f921"
                        ]
                      ],
                      "sequentialminus": [
                        [
                          0,
                          "#0d0887"
                        ],
                        [
                          0.1111111111111111,
                          "#46039f"
                        ],
                        [
                          0.2222222222222222,
                          "#7201a8"
                        ],
                        [
                          0.3333333333333333,
                          "#9c179e"
                        ],
                        [
                          0.4444444444444444,
                          "#bd3786"
                        ],
                        [
                          0.5555555555555556,
                          "#d8576b"
                        ],
                        [
                          0.6666666666666666,
                          "#ed7953"
                        ],
                        [
                          0.7777777777777778,
                          "#fb9f3a"
                        ],
                        [
                          0.8888888888888888,
                          "#fdca26"
                        ],
                        [
                          1,
                          "#f0f921"
                        ]
                      ]
                    },
                    "colorway": [
                      "#636efa",
                      "#EF553B",
                      "#00cc96",
                      "#ab63fa",
                      "#FFA15A",
                      "#19d3f3",
                      "#FF6692",
                      "#B6E880",
                      "#FF97FF",
                      "#FECB52"
                    ],
                    "font": {
                      "color": "#2a3f5f"
                    },
                    "geo": {
                      "bgcolor": "white",
                      "lakecolor": "white",
                      "landcolor": "#E5ECF6",
                      "showlakes": true,
                      "showland": true,
                      "subunitcolor": "white"
                    },
                    "hoverlabel": {
                      "align": "left"
                    },
                    "hovermode": "closest",
                    "mapbox": {
                      "style": "light"
                    },
                    "paper_bgcolor": "white",
                    "plot_bgcolor": "#E5ECF6",
                    "polar": {
                      "angularaxis": {
                        "gridcolor": "white",
                        "linecolor": "white",
                        "ticks": ""
                      },
                      "bgcolor": "#E5ECF6",
                      "radialaxis": {
                        "gridcolor": "white",
                        "linecolor": "white",
                        "ticks": ""
                      }
                    },
                    "scene": {
                      "xaxis": {
                        "backgroundcolor": "#E5ECF6",
                        "gridcolor": "white",
                        "gridwidth": 2,
                        "linecolor": "white",
                        "showbackground": true,
                        "ticks": "",
                        "zerolinecolor": "white"
                      },
                      "yaxis": {
                        "backgroundcolor": "#E5ECF6",
                        "gridcolor": "white",
                        "gridwidth": 2,
                        "linecolor": "white",
                        "showbackground": true,
                        "ticks": "",
                        "zerolinecolor": "white"
                      },
                      "zaxis": {
                        "backgroundcolor": "#E5ECF6",
                        "gridcolor": "white",
                        "gridwidth": 2,
                        "linecolor": "white",
                        "showbackground": true,
                        "ticks": "",
                        "zerolinecolor": "white"
                      }
                    },
                    "shapedefaults": {
                      "line": {
                        "color": "#2a3f5f"
                      }
                    },
                    "ternary": {
                      "aaxis": {
                        "gridcolor": "white",
                        "linecolor": "white",
                        "ticks": ""
                      },
                      "baxis": {
                        "gridcolor": "white",
                        "linecolor": "white",
                        "ticks": ""
                      },
                      "bgcolor": "#E5ECF6",
                      "caxis": {
                        "gridcolor": "white",
                        "linecolor": "white",
                        "ticks": ""
                      }
                    },
                    "title": {
                      "x": 0.05
                    },
                    "xaxis": {
                      "automargin": true,
                      "gridcolor": "white",
                      "linecolor": "white",
                      "ticks": "",
                      "title": {
                        "standoff": 15
                      },
                      "zerolinecolor": "white",
                      "zerolinewidth": 2
                    },
                    "yaxis": {
                      "automargin": true,
                      "gridcolor": "white",
                      "linecolor": "white",
                      "ticks": "",
                      "title": {
                        "standoff": 15
                      },
                      "zerolinecolor": "white",
                      "zerolinewidth": 2
                    }
                  }
                },
                "xaxis": {
                  "anchor": "y",
                  "domain": [
                    0,
                    1
                  ],
                  "title": {
                    "text": "exch_usd"
                  }
                },
                "yaxis": {
                  "anchor": "x",
                  "domain": [
                    0,
                    1
                  ]
                }
              }
            }
          },
          "metadata": {},
          "output_type": "display_data"
        }
      ],
      "source": [
        "fig = px.box(crises_df, x='exch_usd')\n",
        "fig.show()"
      ]
    },
    {
      "cell_type": "code",
      "execution_count": 269,
      "metadata": {
        "id": "3l4K8J2jLPlS"
      },
      "outputs": [],
      "source": [
        "# Removing outliers\n",
        "#min_threshold = crises_df[['inflation_annual_cpi','exch_usd']].quantile(0.05)\n",
        "#max_threshold = crises_df[['inflation_annual_cpi','exch_usd']].quantile(0.95)\n",
        "#crises_df_filtered= crises_df.drop((['inflation_annual_cpi','exch_usd']>max_threshold) & (['inflation_annual_cpi','exch_usd']<min_threshold), axis=0)"
      ]
    },
    {
      "cell_type": "code",
      "execution_count": 270,
      "metadata": {
        "id": "n_SufuXuLPlU"
      },
      "outputs": [],
      "source": [
        "low, high = crises_df[\"inflation_annual_cpi\"].quantile([0.05, 0.95])\n",
        "masked_df = crises_df['inflation_annual_cpi'].between(low, high)\n",
        "crises_df_cleaned = crises_df[masked_df]"
      ]
    },
    {
      "cell_type": "code",
      "execution_count": 271,
      "metadata": {
        "id": "ggXeks_cLPlV"
      },
      "outputs": [],
      "source": [
        "low, high = crises_df['exch_usd'].quantile([0.05,0.95])\n",
        "masked_df = crises_df['exch_usd'].between(low,high)\n",
        "crises_df_cleaned = crises_df[masked_df]"
      ]
    },
    {
      "cell_type": "code",
      "execution_count": 272,
      "metadata": {
        "colab": {
          "base_uri": "https://localhost:8080/",
          "height": 226
        },
        "id": "q_wmb9UBLPlW",
        "outputId": "f4b7884c-faf3-4718-e18d-1de25f4efd86"
      },
      "outputs": [
        {
          "data": {
            "text/html": [
              "<div>\n",
              "<style scoped>\n",
              "    .dataframe tbody tr th:only-of-type {\n",
              "        vertical-align: middle;\n",
              "    }\n",
              "\n",
              "    .dataframe tbody tr th {\n",
              "        vertical-align: top;\n",
              "    }\n",
              "\n",
              "    .dataframe thead th {\n",
              "        text-align: right;\n",
              "    }\n",
              "</style>\n",
              "<table border=\"1\" class=\"dataframe\">\n",
              "  <thead>\n",
              "    <tr style=\"text-align: right;\">\n",
              "      <th></th>\n",
              "      <th>country_number</th>\n",
              "      <th>country_code</th>\n",
              "      <th>country</th>\n",
              "      <th>year</th>\n",
              "      <th>systemic_crisis</th>\n",
              "      <th>exch_usd</th>\n",
              "      <th>domestic_debt_in_default</th>\n",
              "      <th>sovereign_external_debt_default</th>\n",
              "      <th>gdp_weighted_default</th>\n",
              "      <th>inflation_annual_cpi</th>\n",
              "      <th>independence</th>\n",
              "      <th>currency_crises</th>\n",
              "      <th>inflation_crises</th>\n",
              "      <th>banking_crisis</th>\n",
              "    </tr>\n",
              "  </thead>\n",
              "  <tbody>\n",
              "    <tr>\n",
              "      <th>0</th>\n",
              "      <td>1</td>\n",
              "      <td>DZA</td>\n",
              "      <td>Algeria</td>\n",
              "      <td>1870</td>\n",
              "      <td>1</td>\n",
              "      <td>5.226400e-02</td>\n",
              "      <td>0</td>\n",
              "      <td>0</td>\n",
              "      <td>0.0</td>\n",
              "      <td>3.441456e+00</td>\n",
              "      <td>0</td>\n",
              "      <td>0</td>\n",
              "      <td>0</td>\n",
              "      <td>crisis</td>\n",
              "    </tr>\n",
              "    <tr>\n",
              "      <th>1</th>\n",
              "      <td>1</td>\n",
              "      <td>DZA</td>\n",
              "      <td>Algeria</td>\n",
              "      <td>1871</td>\n",
              "      <td>0</td>\n",
              "      <td>5.279800e-02</td>\n",
              "      <td>0</td>\n",
              "      <td>0</td>\n",
              "      <td>0.0</td>\n",
              "      <td>1.414914e+01</td>\n",
              "      <td>0</td>\n",
              "      <td>0</td>\n",
              "      <td>0</td>\n",
              "      <td>no_crisis</td>\n",
              "    </tr>\n",
              "    <tr>\n",
              "      <th>2</th>\n",
              "      <td>1</td>\n",
              "      <td>DZA</td>\n",
              "      <td>Algeria</td>\n",
              "      <td>1872</td>\n",
              "      <td>0</td>\n",
              "      <td>5.227400e-02</td>\n",
              "      <td>0</td>\n",
              "      <td>0</td>\n",
              "      <td>0.0</td>\n",
              "      <td>-3.718593e+00</td>\n",
              "      <td>0</td>\n",
              "      <td>0</td>\n",
              "      <td>0</td>\n",
              "      <td>no_crisis</td>\n",
              "    </tr>\n",
              "    <tr>\n",
              "      <th>3</th>\n",
              "      <td>1</td>\n",
              "      <td>DZA</td>\n",
              "      <td>Algeria</td>\n",
              "      <td>1873</td>\n",
              "      <td>0</td>\n",
              "      <td>5.168000e-02</td>\n",
              "      <td>0</td>\n",
              "      <td>0</td>\n",
              "      <td>0.0</td>\n",
              "      <td>1.120390e+01</td>\n",
              "      <td>0</td>\n",
              "      <td>0</td>\n",
              "      <td>0</td>\n",
              "      <td>no_crisis</td>\n",
              "    </tr>\n",
              "    <tr>\n",
              "      <th>4</th>\n",
              "      <td>1</td>\n",
              "      <td>DZA</td>\n",
              "      <td>Algeria</td>\n",
              "      <td>1874</td>\n",
              "      <td>0</td>\n",
              "      <td>5.130800e-02</td>\n",
              "      <td>0</td>\n",
              "      <td>0</td>\n",
              "      <td>0.0</td>\n",
              "      <td>-3.848561e+00</td>\n",
              "      <td>0</td>\n",
              "      <td>0</td>\n",
              "      <td>0</td>\n",
              "      <td>no_crisis</td>\n",
              "    </tr>\n",
              "    <tr>\n",
              "      <th>...</th>\n",
              "      <td>...</td>\n",
              "      <td>...</td>\n",
              "      <td>...</td>\n",
              "      <td>...</td>\n",
              "      <td>...</td>\n",
              "      <td>...</td>\n",
              "      <td>...</td>\n",
              "      <td>...</td>\n",
              "      <td>...</td>\n",
              "      <td>...</td>\n",
              "      <td>...</td>\n",
              "      <td>...</td>\n",
              "      <td>...</td>\n",
              "      <td>...</td>\n",
              "    </tr>\n",
              "    <tr>\n",
              "      <th>1049</th>\n",
              "      <td>70</td>\n",
              "      <td>ZWE</td>\n",
              "      <td>Zimbabwe</td>\n",
              "      <td>2004</td>\n",
              "      <td>1</td>\n",
              "      <td>5.600000e-23</td>\n",
              "      <td>1</td>\n",
              "      <td>1</td>\n",
              "      <td>0.0</td>\n",
              "      <td>1.327468e+02</td>\n",
              "      <td>1</td>\n",
              "      <td>1</td>\n",
              "      <td>1</td>\n",
              "      <td>crisis</td>\n",
              "    </tr>\n",
              "    <tr>\n",
              "      <th>1050</th>\n",
              "      <td>70</td>\n",
              "      <td>ZWE</td>\n",
              "      <td>Zimbabwe</td>\n",
              "      <td>2005</td>\n",
              "      <td>1</td>\n",
              "      <td>8.460000e-22</td>\n",
              "      <td>1</td>\n",
              "      <td>1</td>\n",
              "      <td>0.0</td>\n",
              "      <td>5.858444e+02</td>\n",
              "      <td>1</td>\n",
              "      <td>1</td>\n",
              "      <td>1</td>\n",
              "      <td>crisis</td>\n",
              "    </tr>\n",
              "    <tr>\n",
              "      <th>1051</th>\n",
              "      <td>70</td>\n",
              "      <td>ZWE</td>\n",
              "      <td>Zimbabwe</td>\n",
              "      <td>2006</td>\n",
              "      <td>1</td>\n",
              "      <td>3.000000e-19</td>\n",
              "      <td>1</td>\n",
              "      <td>1</td>\n",
              "      <td>0.0</td>\n",
              "      <td>1.281114e+03</td>\n",
              "      <td>1</td>\n",
              "      <td>1</td>\n",
              "      <td>1</td>\n",
              "      <td>crisis</td>\n",
              "    </tr>\n",
              "    <tr>\n",
              "      <th>1052</th>\n",
              "      <td>70</td>\n",
              "      <td>ZWE</td>\n",
              "      <td>Zimbabwe</td>\n",
              "      <td>2007</td>\n",
              "      <td>1</td>\n",
              "      <td>1.900000e-16</td>\n",
              "      <td>1</td>\n",
              "      <td>1</td>\n",
              "      <td>0.0</td>\n",
              "      <td>6.627989e+04</td>\n",
              "      <td>1</td>\n",
              "      <td>1</td>\n",
              "      <td>1</td>\n",
              "      <td>crisis</td>\n",
              "    </tr>\n",
              "    <tr>\n",
              "      <th>1053</th>\n",
              "      <td>70</td>\n",
              "      <td>ZWE</td>\n",
              "      <td>Zimbabwe</td>\n",
              "      <td>2008</td>\n",
              "      <td>1</td>\n",
              "      <td>2.000000e-03</td>\n",
              "      <td>1</td>\n",
              "      <td>1</td>\n",
              "      <td>0.0</td>\n",
              "      <td>2.198970e+07</td>\n",
              "      <td>1</td>\n",
              "      <td>1</td>\n",
              "      <td>1</td>\n",
              "      <td>crisis</td>\n",
              "    </tr>\n",
              "  </tbody>\n",
              "</table>\n",
              "<p>953 rows × 14 columns</p>\n",
              "</div>"
            ],
            "text/plain": [
              "      country_number country_code   country  year  systemic_crisis  \\\n",
              "0                  1          DZA   Algeria  1870                1   \n",
              "1                  1          DZA   Algeria  1871                0   \n",
              "2                  1          DZA   Algeria  1872                0   \n",
              "3                  1          DZA   Algeria  1873                0   \n",
              "4                  1          DZA   Algeria  1874                0   \n",
              "...              ...          ...       ...   ...              ...   \n",
              "1049              70          ZWE  Zimbabwe  2004                1   \n",
              "1050              70          ZWE  Zimbabwe  2005                1   \n",
              "1051              70          ZWE  Zimbabwe  2006                1   \n",
              "1052              70          ZWE  Zimbabwe  2007                1   \n",
              "1053              70          ZWE  Zimbabwe  2008                1   \n",
              "\n",
              "          exch_usd  domestic_debt_in_default  sovereign_external_debt_default  \\\n",
              "0     5.226400e-02                         0                                0   \n",
              "1     5.279800e-02                         0                                0   \n",
              "2     5.227400e-02                         0                                0   \n",
              "3     5.168000e-02                         0                                0   \n",
              "4     5.130800e-02                         0                                0   \n",
              "...            ...                       ...                              ...   \n",
              "1049  5.600000e-23                         1                                1   \n",
              "1050  8.460000e-22                         1                                1   \n",
              "1051  3.000000e-19                         1                                1   \n",
              "1052  1.900000e-16                         1                                1   \n",
              "1053  2.000000e-03                         1                                1   \n",
              "\n",
              "      gdp_weighted_default  inflation_annual_cpi  independence  \\\n",
              "0                      0.0          3.441456e+00             0   \n",
              "1                      0.0          1.414914e+01             0   \n",
              "2                      0.0         -3.718593e+00             0   \n",
              "3                      0.0          1.120390e+01             0   \n",
              "4                      0.0         -3.848561e+00             0   \n",
              "...                    ...                   ...           ...   \n",
              "1049                   0.0          1.327468e+02             1   \n",
              "1050                   0.0          5.858444e+02             1   \n",
              "1051                   0.0          1.281114e+03             1   \n",
              "1052                   0.0          6.627989e+04             1   \n",
              "1053                   0.0          2.198970e+07             1   \n",
              "\n",
              "      currency_crises  inflation_crises banking_crisis  \n",
              "0                   0                 0         crisis  \n",
              "1                   0                 0      no_crisis  \n",
              "2                   0                 0      no_crisis  \n",
              "3                   0                 0      no_crisis  \n",
              "4                   0                 0      no_crisis  \n",
              "...               ...               ...            ...  \n",
              "1049                1                 1         crisis  \n",
              "1050                1                 1         crisis  \n",
              "1051                1                 1         crisis  \n",
              "1052                1                 1         crisis  \n",
              "1053                1                 1         crisis  \n",
              "\n",
              "[953 rows x 14 columns]"
            ]
          },
          "execution_count": 272,
          "metadata": {},
          "output_type": "execute_result"
        }
      ],
      "source": [
        "crises_df_cleaned"
      ]
    },
    {
      "cell_type": "code",
      "execution_count": 273,
      "metadata": {
        "colab": {
          "base_uri": "https://localhost:8080/"
        },
        "id": "lbfg6HNNLPlX",
        "outputId": "e6cd341d-7a86-4102-b09a-b6aa6e8c2810"
      },
      "outputs": [
        {
          "name": "stderr",
          "output_type": "stream",
          "text": [
            "c:\\Users\\Windows\\anaconda3\\Lib\\site-packages\\pandas\\core\\frame.py:4906: SettingWithCopyWarning:\n",
            "\n",
            "\n",
            "A value is trying to be set on a copy of a slice from a DataFrame\n",
            "\n",
            "See the caveats in the documentation: https://pandas.pydata.org/pandas-docs/stable/user_guide/indexing.html#returning-a-view-versus-a-copy\n",
            "\n"
          ]
        }
      ],
      "source": [
        "# drop columns that are not needed\n",
        "\n",
        "crises_df_cleaned.drop(['country_number','country_code','year','gdp_weighted_default'], axis = 1, inplace = True)"
      ]
    },
    {
      "cell_type": "code",
      "execution_count": 274,
      "metadata": {},
      "outputs": [
        {
          "data": {
            "text/html": [
              "<div>\n",
              "<style scoped>\n",
              "    .dataframe tbody tr th:only-of-type {\n",
              "        vertical-align: middle;\n",
              "    }\n",
              "\n",
              "    .dataframe tbody tr th {\n",
              "        vertical-align: top;\n",
              "    }\n",
              "\n",
              "    .dataframe thead th {\n",
              "        text-align: right;\n",
              "    }\n",
              "</style>\n",
              "<table border=\"1\" class=\"dataframe\">\n",
              "  <thead>\n",
              "    <tr style=\"text-align: right;\">\n",
              "      <th></th>\n",
              "      <th>country</th>\n",
              "      <th>systemic_crisis</th>\n",
              "      <th>exch_usd</th>\n",
              "      <th>domestic_debt_in_default</th>\n",
              "      <th>sovereign_external_debt_default</th>\n",
              "      <th>inflation_annual_cpi</th>\n",
              "      <th>independence</th>\n",
              "      <th>currency_crises</th>\n",
              "      <th>inflation_crises</th>\n",
              "      <th>banking_crisis</th>\n",
              "    </tr>\n",
              "  </thead>\n",
              "  <tbody>\n",
              "    <tr>\n",
              "      <th>0</th>\n",
              "      <td>Algeria</td>\n",
              "      <td>1</td>\n",
              "      <td>5.226400e-02</td>\n",
              "      <td>0</td>\n",
              "      <td>0</td>\n",
              "      <td>3.441456e+00</td>\n",
              "      <td>0</td>\n",
              "      <td>0</td>\n",
              "      <td>0</td>\n",
              "      <td>crisis</td>\n",
              "    </tr>\n",
              "    <tr>\n",
              "      <th>1</th>\n",
              "      <td>Algeria</td>\n",
              "      <td>0</td>\n",
              "      <td>5.279800e-02</td>\n",
              "      <td>0</td>\n",
              "      <td>0</td>\n",
              "      <td>1.414914e+01</td>\n",
              "      <td>0</td>\n",
              "      <td>0</td>\n",
              "      <td>0</td>\n",
              "      <td>no_crisis</td>\n",
              "    </tr>\n",
              "    <tr>\n",
              "      <th>2</th>\n",
              "      <td>Algeria</td>\n",
              "      <td>0</td>\n",
              "      <td>5.227400e-02</td>\n",
              "      <td>0</td>\n",
              "      <td>0</td>\n",
              "      <td>-3.718593e+00</td>\n",
              "      <td>0</td>\n",
              "      <td>0</td>\n",
              "      <td>0</td>\n",
              "      <td>no_crisis</td>\n",
              "    </tr>\n",
              "    <tr>\n",
              "      <th>3</th>\n",
              "      <td>Algeria</td>\n",
              "      <td>0</td>\n",
              "      <td>5.168000e-02</td>\n",
              "      <td>0</td>\n",
              "      <td>0</td>\n",
              "      <td>1.120390e+01</td>\n",
              "      <td>0</td>\n",
              "      <td>0</td>\n",
              "      <td>0</td>\n",
              "      <td>no_crisis</td>\n",
              "    </tr>\n",
              "    <tr>\n",
              "      <th>4</th>\n",
              "      <td>Algeria</td>\n",
              "      <td>0</td>\n",
              "      <td>5.130800e-02</td>\n",
              "      <td>0</td>\n",
              "      <td>0</td>\n",
              "      <td>-3.848561e+00</td>\n",
              "      <td>0</td>\n",
              "      <td>0</td>\n",
              "      <td>0</td>\n",
              "      <td>no_crisis</td>\n",
              "    </tr>\n",
              "    <tr>\n",
              "      <th>...</th>\n",
              "      <td>...</td>\n",
              "      <td>...</td>\n",
              "      <td>...</td>\n",
              "      <td>...</td>\n",
              "      <td>...</td>\n",
              "      <td>...</td>\n",
              "      <td>...</td>\n",
              "      <td>...</td>\n",
              "      <td>...</td>\n",
              "      <td>...</td>\n",
              "    </tr>\n",
              "    <tr>\n",
              "      <th>1049</th>\n",
              "      <td>Zimbabwe</td>\n",
              "      <td>1</td>\n",
              "      <td>5.600000e-23</td>\n",
              "      <td>1</td>\n",
              "      <td>1</td>\n",
              "      <td>1.327468e+02</td>\n",
              "      <td>1</td>\n",
              "      <td>1</td>\n",
              "      <td>1</td>\n",
              "      <td>crisis</td>\n",
              "    </tr>\n",
              "    <tr>\n",
              "      <th>1050</th>\n",
              "      <td>Zimbabwe</td>\n",
              "      <td>1</td>\n",
              "      <td>8.460000e-22</td>\n",
              "      <td>1</td>\n",
              "      <td>1</td>\n",
              "      <td>5.858444e+02</td>\n",
              "      <td>1</td>\n",
              "      <td>1</td>\n",
              "      <td>1</td>\n",
              "      <td>crisis</td>\n",
              "    </tr>\n",
              "    <tr>\n",
              "      <th>1051</th>\n",
              "      <td>Zimbabwe</td>\n",
              "      <td>1</td>\n",
              "      <td>3.000000e-19</td>\n",
              "      <td>1</td>\n",
              "      <td>1</td>\n",
              "      <td>1.281114e+03</td>\n",
              "      <td>1</td>\n",
              "      <td>1</td>\n",
              "      <td>1</td>\n",
              "      <td>crisis</td>\n",
              "    </tr>\n",
              "    <tr>\n",
              "      <th>1052</th>\n",
              "      <td>Zimbabwe</td>\n",
              "      <td>1</td>\n",
              "      <td>1.900000e-16</td>\n",
              "      <td>1</td>\n",
              "      <td>1</td>\n",
              "      <td>6.627989e+04</td>\n",
              "      <td>1</td>\n",
              "      <td>1</td>\n",
              "      <td>1</td>\n",
              "      <td>crisis</td>\n",
              "    </tr>\n",
              "    <tr>\n",
              "      <th>1053</th>\n",
              "      <td>Zimbabwe</td>\n",
              "      <td>1</td>\n",
              "      <td>2.000000e-03</td>\n",
              "      <td>1</td>\n",
              "      <td>1</td>\n",
              "      <td>2.198970e+07</td>\n",
              "      <td>1</td>\n",
              "      <td>1</td>\n",
              "      <td>1</td>\n",
              "      <td>crisis</td>\n",
              "    </tr>\n",
              "  </tbody>\n",
              "</table>\n",
              "<p>953 rows × 10 columns</p>\n",
              "</div>"
            ],
            "text/plain": [
              "       country  systemic_crisis      exch_usd  domestic_debt_in_default  \\\n",
              "0      Algeria                1  5.226400e-02                         0   \n",
              "1      Algeria                0  5.279800e-02                         0   \n",
              "2      Algeria                0  5.227400e-02                         0   \n",
              "3      Algeria                0  5.168000e-02                         0   \n",
              "4      Algeria                0  5.130800e-02                         0   \n",
              "...        ...              ...           ...                       ...   \n",
              "1049  Zimbabwe                1  5.600000e-23                         1   \n",
              "1050  Zimbabwe                1  8.460000e-22                         1   \n",
              "1051  Zimbabwe                1  3.000000e-19                         1   \n",
              "1052  Zimbabwe                1  1.900000e-16                         1   \n",
              "1053  Zimbabwe                1  2.000000e-03                         1   \n",
              "\n",
              "      sovereign_external_debt_default  inflation_annual_cpi  independence  \\\n",
              "0                                   0          3.441456e+00             0   \n",
              "1                                   0          1.414914e+01             0   \n",
              "2                                   0         -3.718593e+00             0   \n",
              "3                                   0          1.120390e+01             0   \n",
              "4                                   0         -3.848561e+00             0   \n",
              "...                               ...                   ...           ...   \n",
              "1049                                1          1.327468e+02             1   \n",
              "1050                                1          5.858444e+02             1   \n",
              "1051                                1          1.281114e+03             1   \n",
              "1052                                1          6.627989e+04             1   \n",
              "1053                                1          2.198970e+07             1   \n",
              "\n",
              "      currency_crises  inflation_crises banking_crisis  \n",
              "0                   0                 0         crisis  \n",
              "1                   0                 0      no_crisis  \n",
              "2                   0                 0      no_crisis  \n",
              "3                   0                 0      no_crisis  \n",
              "4                   0                 0      no_crisis  \n",
              "...               ...               ...            ...  \n",
              "1049                1                 1         crisis  \n",
              "1050                1                 1         crisis  \n",
              "1051                1                 1         crisis  \n",
              "1052                1                 1         crisis  \n",
              "1053                1                 1         crisis  \n",
              "\n",
              "[953 rows x 10 columns]"
            ]
          },
          "execution_count": 274,
          "metadata": {},
          "output_type": "execute_result"
        }
      ],
      "source": [
        "crises_df_cleaned"
      ]
    },
    {
      "cell_type": "code",
      "execution_count": 275,
      "metadata": {},
      "outputs": [
        {
          "data": {
            "text/plain": [
              "1    736\n",
              "0    217\n",
              "Name: independence, dtype: int64"
            ]
          },
          "execution_count": 275,
          "metadata": {},
          "output_type": "execute_result"
        }
      ],
      "source": [
        "crises_df_cleaned['independence'].value_counts()"
      ]
    },
    {
      "cell_type": "code",
      "execution_count": 276,
      "metadata": {},
      "outputs": [
        {
          "data": {
            "text/plain": [
              "Egypt                       155\n",
              "South Africa                114\n",
              "Algeria                      85\n",
              "Zimbabwe                     85\n",
              "Angola                       77\n",
              "Morocco                      75\n",
              "Zambia                       72\n",
              "Mauritius                    68\n",
              "Kenya                        67\n",
              "Tunisia                      67\n",
              "Nigeria                      41\n",
              "Central African Republic     31\n",
              "Ivory Coast                  16\n",
              "Name: country, dtype: int64"
            ]
          },
          "execution_count": 276,
          "metadata": {},
          "output_type": "execute_result"
        }
      ],
      "source": [
        "crises_df_cleaned['country'].value_counts()"
      ]
    },
    {
      "cell_type": "code",
      "execution_count": 277,
      "metadata": {},
      "outputs": [
        {
          "data": {
            "text/html": [
              "<div>\n",
              "<style scoped>\n",
              "    .dataframe tbody tr th:only-of-type {\n",
              "        vertical-align: middle;\n",
              "    }\n",
              "\n",
              "    .dataframe tbody tr th {\n",
              "        vertical-align: top;\n",
              "    }\n",
              "\n",
              "    .dataframe thead th {\n",
              "        text-align: right;\n",
              "    }\n",
              "</style>\n",
              "<table border=\"1\" class=\"dataframe\">\n",
              "  <thead>\n",
              "    <tr style=\"text-align: right;\">\n",
              "      <th></th>\n",
              "      <th>country</th>\n",
              "      <th>systemic_crisis</th>\n",
              "      <th>exch_usd</th>\n",
              "      <th>domestic_debt_in_default</th>\n",
              "      <th>sovereign_external_debt_default</th>\n",
              "      <th>inflation_annual_cpi</th>\n",
              "      <th>independence</th>\n",
              "      <th>currency_crises</th>\n",
              "      <th>inflation_crises</th>\n",
              "      <th>banking_crisis</th>\n",
              "    </tr>\n",
              "  </thead>\n",
              "  <tbody>\n",
              "    <tr>\n",
              "      <th>0</th>\n",
              "      <td>Algeria</td>\n",
              "      <td>1</td>\n",
              "      <td>5.226400e-02</td>\n",
              "      <td>0</td>\n",
              "      <td>0</td>\n",
              "      <td>3.441456e+00</td>\n",
              "      <td>0</td>\n",
              "      <td>0</td>\n",
              "      <td>0</td>\n",
              "      <td>crisis</td>\n",
              "    </tr>\n",
              "    <tr>\n",
              "      <th>1</th>\n",
              "      <td>Algeria</td>\n",
              "      <td>0</td>\n",
              "      <td>5.279800e-02</td>\n",
              "      <td>0</td>\n",
              "      <td>0</td>\n",
              "      <td>1.414914e+01</td>\n",
              "      <td>0</td>\n",
              "      <td>0</td>\n",
              "      <td>0</td>\n",
              "      <td>no_crisis</td>\n",
              "    </tr>\n",
              "    <tr>\n",
              "      <th>2</th>\n",
              "      <td>Algeria</td>\n",
              "      <td>0</td>\n",
              "      <td>5.227400e-02</td>\n",
              "      <td>0</td>\n",
              "      <td>0</td>\n",
              "      <td>-3.718593e+00</td>\n",
              "      <td>0</td>\n",
              "      <td>0</td>\n",
              "      <td>0</td>\n",
              "      <td>no_crisis</td>\n",
              "    </tr>\n",
              "    <tr>\n",
              "      <th>3</th>\n",
              "      <td>Algeria</td>\n",
              "      <td>0</td>\n",
              "      <td>5.168000e-02</td>\n",
              "      <td>0</td>\n",
              "      <td>0</td>\n",
              "      <td>1.120390e+01</td>\n",
              "      <td>0</td>\n",
              "      <td>0</td>\n",
              "      <td>0</td>\n",
              "      <td>no_crisis</td>\n",
              "    </tr>\n",
              "    <tr>\n",
              "      <th>4</th>\n",
              "      <td>Algeria</td>\n",
              "      <td>0</td>\n",
              "      <td>5.130800e-02</td>\n",
              "      <td>0</td>\n",
              "      <td>0</td>\n",
              "      <td>-3.848561e+00</td>\n",
              "      <td>0</td>\n",
              "      <td>0</td>\n",
              "      <td>0</td>\n",
              "      <td>no_crisis</td>\n",
              "    </tr>\n",
              "    <tr>\n",
              "      <th>...</th>\n",
              "      <td>...</td>\n",
              "      <td>...</td>\n",
              "      <td>...</td>\n",
              "      <td>...</td>\n",
              "      <td>...</td>\n",
              "      <td>...</td>\n",
              "      <td>...</td>\n",
              "      <td>...</td>\n",
              "      <td>...</td>\n",
              "      <td>...</td>\n",
              "    </tr>\n",
              "    <tr>\n",
              "      <th>1049</th>\n",
              "      <td>Zimbabwe</td>\n",
              "      <td>1</td>\n",
              "      <td>5.600000e-23</td>\n",
              "      <td>1</td>\n",
              "      <td>1</td>\n",
              "      <td>1.327468e+02</td>\n",
              "      <td>1</td>\n",
              "      <td>1</td>\n",
              "      <td>1</td>\n",
              "      <td>crisis</td>\n",
              "    </tr>\n",
              "    <tr>\n",
              "      <th>1050</th>\n",
              "      <td>Zimbabwe</td>\n",
              "      <td>1</td>\n",
              "      <td>8.460000e-22</td>\n",
              "      <td>1</td>\n",
              "      <td>1</td>\n",
              "      <td>5.858444e+02</td>\n",
              "      <td>1</td>\n",
              "      <td>1</td>\n",
              "      <td>1</td>\n",
              "      <td>crisis</td>\n",
              "    </tr>\n",
              "    <tr>\n",
              "      <th>1051</th>\n",
              "      <td>Zimbabwe</td>\n",
              "      <td>1</td>\n",
              "      <td>3.000000e-19</td>\n",
              "      <td>1</td>\n",
              "      <td>1</td>\n",
              "      <td>1.281114e+03</td>\n",
              "      <td>1</td>\n",
              "      <td>1</td>\n",
              "      <td>1</td>\n",
              "      <td>crisis</td>\n",
              "    </tr>\n",
              "    <tr>\n",
              "      <th>1052</th>\n",
              "      <td>Zimbabwe</td>\n",
              "      <td>1</td>\n",
              "      <td>1.900000e-16</td>\n",
              "      <td>1</td>\n",
              "      <td>1</td>\n",
              "      <td>6.627989e+04</td>\n",
              "      <td>1</td>\n",
              "      <td>1</td>\n",
              "      <td>1</td>\n",
              "      <td>crisis</td>\n",
              "    </tr>\n",
              "    <tr>\n",
              "      <th>1053</th>\n",
              "      <td>Zimbabwe</td>\n",
              "      <td>1</td>\n",
              "      <td>2.000000e-03</td>\n",
              "      <td>1</td>\n",
              "      <td>1</td>\n",
              "      <td>2.198970e+07</td>\n",
              "      <td>1</td>\n",
              "      <td>1</td>\n",
              "      <td>1</td>\n",
              "      <td>crisis</td>\n",
              "    </tr>\n",
              "  </tbody>\n",
              "</table>\n",
              "<p>953 rows × 10 columns</p>\n",
              "</div>"
            ],
            "text/plain": [
              "       country  systemic_crisis      exch_usd  domestic_debt_in_default  \\\n",
              "0      Algeria                1  5.226400e-02                         0   \n",
              "1      Algeria                0  5.279800e-02                         0   \n",
              "2      Algeria                0  5.227400e-02                         0   \n",
              "3      Algeria                0  5.168000e-02                         0   \n",
              "4      Algeria                0  5.130800e-02                         0   \n",
              "...        ...              ...           ...                       ...   \n",
              "1049  Zimbabwe                1  5.600000e-23                         1   \n",
              "1050  Zimbabwe                1  8.460000e-22                         1   \n",
              "1051  Zimbabwe                1  3.000000e-19                         1   \n",
              "1052  Zimbabwe                1  1.900000e-16                         1   \n",
              "1053  Zimbabwe                1  2.000000e-03                         1   \n",
              "\n",
              "      sovereign_external_debt_default  inflation_annual_cpi  independence  \\\n",
              "0                                   0          3.441456e+00             0   \n",
              "1                                   0          1.414914e+01             0   \n",
              "2                                   0         -3.718593e+00             0   \n",
              "3                                   0          1.120390e+01             0   \n",
              "4                                   0         -3.848561e+00             0   \n",
              "...                               ...                   ...           ...   \n",
              "1049                                1          1.327468e+02             1   \n",
              "1050                                1          5.858444e+02             1   \n",
              "1051                                1          1.281114e+03             1   \n",
              "1052                                1          6.627989e+04             1   \n",
              "1053                                1          2.198970e+07             1   \n",
              "\n",
              "      currency_crises  inflation_crises banking_crisis  \n",
              "0                   0                 0         crisis  \n",
              "1                   0                 0      no_crisis  \n",
              "2                   0                 0      no_crisis  \n",
              "3                   0                 0      no_crisis  \n",
              "4                   0                 0      no_crisis  \n",
              "...               ...               ...            ...  \n",
              "1049                1                 1         crisis  \n",
              "1050                1                 1         crisis  \n",
              "1051                1                 1         crisis  \n",
              "1052                1                 1         crisis  \n",
              "1053                1                 1         crisis  \n",
              "\n",
              "[953 rows x 10 columns]"
            ]
          },
          "execution_count": 277,
          "metadata": {},
          "output_type": "execute_result"
        }
      ],
      "source": [
        "crises_df_cleaned"
      ]
    },
    {
      "cell_type": "code",
      "execution_count": 278,
      "metadata": {
        "id": "sDG26r5dLPlY"
      },
      "outputs": [
        {
          "name": "stderr",
          "output_type": "stream",
          "text": [
            "C:\\Users\\Windows\\AppData\\Local\\Temp\\ipykernel_28604\\1053306995.py:7: SettingWithCopyWarning:\n",
            "\n",
            "\n",
            "A value is trying to be set on a copy of a slice from a DataFrame.\n",
            "Try using .loc[row_indexer,col_indexer] = value instead\n",
            "\n",
            "See the caveats in the documentation: https://pandas.pydata.org/pandas-docs/stable/user_guide/indexing.html#returning-a-view-versus-a-copy\n",
            "\n",
            "C:\\Users\\Windows\\AppData\\Local\\Temp\\ipykernel_28604\\1053306995.py:8: SettingWithCopyWarning:\n",
            "\n",
            "\n",
            "A value is trying to be set on a copy of a slice from a DataFrame.\n",
            "Try using .loc[row_indexer,col_indexer] = value instead\n",
            "\n",
            "See the caveats in the documentation: https://pandas.pydata.org/pandas-docs/stable/user_guide/indexing.html#returning-a-view-versus-a-copy\n",
            "\n"
          ]
        }
      ],
      "source": [
        "# Encoding categorical features using label encoder\n",
        "\n",
        "from sklearn.preprocessing import LabelEncoder\n",
        "\n",
        "lb = LabelEncoder()\n",
        "\n",
        "crises_df_cleaned['country'] = lb.fit_transform(crises_df_cleaned['country'])\n",
        "crises_df_cleaned['banking_crisis'] = lb.fit_transform(crises_df_cleaned['banking_crisis'])"
      ]
    },
    {
      "cell_type": "code",
      "execution_count": 279,
      "metadata": {},
      "outputs": [
        {
          "data": {
            "text/html": [
              "<div>\n",
              "<style scoped>\n",
              "    .dataframe tbody tr th:only-of-type {\n",
              "        vertical-align: middle;\n",
              "    }\n",
              "\n",
              "    .dataframe tbody tr th {\n",
              "        vertical-align: top;\n",
              "    }\n",
              "\n",
              "    .dataframe thead th {\n",
              "        text-align: right;\n",
              "    }\n",
              "</style>\n",
              "<table border=\"1\" class=\"dataframe\">\n",
              "  <thead>\n",
              "    <tr style=\"text-align: right;\">\n",
              "      <th></th>\n",
              "      <th>country</th>\n",
              "      <th>systemic_crisis</th>\n",
              "      <th>exch_usd</th>\n",
              "      <th>domestic_debt_in_default</th>\n",
              "      <th>sovereign_external_debt_default</th>\n",
              "      <th>inflation_annual_cpi</th>\n",
              "      <th>independence</th>\n",
              "      <th>currency_crises</th>\n",
              "      <th>inflation_crises</th>\n",
              "      <th>banking_crisis</th>\n",
              "    </tr>\n",
              "  </thead>\n",
              "  <tbody>\n",
              "    <tr>\n",
              "      <th>0</th>\n",
              "      <td>0</td>\n",
              "      <td>1</td>\n",
              "      <td>5.226400e-02</td>\n",
              "      <td>0</td>\n",
              "      <td>0</td>\n",
              "      <td>3.441456e+00</td>\n",
              "      <td>0</td>\n",
              "      <td>0</td>\n",
              "      <td>0</td>\n",
              "      <td>0</td>\n",
              "    </tr>\n",
              "    <tr>\n",
              "      <th>1</th>\n",
              "      <td>0</td>\n",
              "      <td>0</td>\n",
              "      <td>5.279800e-02</td>\n",
              "      <td>0</td>\n",
              "      <td>0</td>\n",
              "      <td>1.414914e+01</td>\n",
              "      <td>0</td>\n",
              "      <td>0</td>\n",
              "      <td>0</td>\n",
              "      <td>1</td>\n",
              "    </tr>\n",
              "    <tr>\n",
              "      <th>2</th>\n",
              "      <td>0</td>\n",
              "      <td>0</td>\n",
              "      <td>5.227400e-02</td>\n",
              "      <td>0</td>\n",
              "      <td>0</td>\n",
              "      <td>-3.718593e+00</td>\n",
              "      <td>0</td>\n",
              "      <td>0</td>\n",
              "      <td>0</td>\n",
              "      <td>1</td>\n",
              "    </tr>\n",
              "    <tr>\n",
              "      <th>3</th>\n",
              "      <td>0</td>\n",
              "      <td>0</td>\n",
              "      <td>5.168000e-02</td>\n",
              "      <td>0</td>\n",
              "      <td>0</td>\n",
              "      <td>1.120390e+01</td>\n",
              "      <td>0</td>\n",
              "      <td>0</td>\n",
              "      <td>0</td>\n",
              "      <td>1</td>\n",
              "    </tr>\n",
              "    <tr>\n",
              "      <th>4</th>\n",
              "      <td>0</td>\n",
              "      <td>0</td>\n",
              "      <td>5.130800e-02</td>\n",
              "      <td>0</td>\n",
              "      <td>0</td>\n",
              "      <td>-3.848561e+00</td>\n",
              "      <td>0</td>\n",
              "      <td>0</td>\n",
              "      <td>0</td>\n",
              "      <td>1</td>\n",
              "    </tr>\n",
              "    <tr>\n",
              "      <th>...</th>\n",
              "      <td>...</td>\n",
              "      <td>...</td>\n",
              "      <td>...</td>\n",
              "      <td>...</td>\n",
              "      <td>...</td>\n",
              "      <td>...</td>\n",
              "      <td>...</td>\n",
              "      <td>...</td>\n",
              "      <td>...</td>\n",
              "      <td>...</td>\n",
              "    </tr>\n",
              "    <tr>\n",
              "      <th>1049</th>\n",
              "      <td>12</td>\n",
              "      <td>1</td>\n",
              "      <td>5.600000e-23</td>\n",
              "      <td>1</td>\n",
              "      <td>1</td>\n",
              "      <td>1.327468e+02</td>\n",
              "      <td>1</td>\n",
              "      <td>1</td>\n",
              "      <td>1</td>\n",
              "      <td>0</td>\n",
              "    </tr>\n",
              "    <tr>\n",
              "      <th>1050</th>\n",
              "      <td>12</td>\n",
              "      <td>1</td>\n",
              "      <td>8.460000e-22</td>\n",
              "      <td>1</td>\n",
              "      <td>1</td>\n",
              "      <td>5.858444e+02</td>\n",
              "      <td>1</td>\n",
              "      <td>1</td>\n",
              "      <td>1</td>\n",
              "      <td>0</td>\n",
              "    </tr>\n",
              "    <tr>\n",
              "      <th>1051</th>\n",
              "      <td>12</td>\n",
              "      <td>1</td>\n",
              "      <td>3.000000e-19</td>\n",
              "      <td>1</td>\n",
              "      <td>1</td>\n",
              "      <td>1.281114e+03</td>\n",
              "      <td>1</td>\n",
              "      <td>1</td>\n",
              "      <td>1</td>\n",
              "      <td>0</td>\n",
              "    </tr>\n",
              "    <tr>\n",
              "      <th>1052</th>\n",
              "      <td>12</td>\n",
              "      <td>1</td>\n",
              "      <td>1.900000e-16</td>\n",
              "      <td>1</td>\n",
              "      <td>1</td>\n",
              "      <td>6.627989e+04</td>\n",
              "      <td>1</td>\n",
              "      <td>1</td>\n",
              "      <td>1</td>\n",
              "      <td>0</td>\n",
              "    </tr>\n",
              "    <tr>\n",
              "      <th>1053</th>\n",
              "      <td>12</td>\n",
              "      <td>1</td>\n",
              "      <td>2.000000e-03</td>\n",
              "      <td>1</td>\n",
              "      <td>1</td>\n",
              "      <td>2.198970e+07</td>\n",
              "      <td>1</td>\n",
              "      <td>1</td>\n",
              "      <td>1</td>\n",
              "      <td>0</td>\n",
              "    </tr>\n",
              "  </tbody>\n",
              "</table>\n",
              "<p>953 rows × 10 columns</p>\n",
              "</div>"
            ],
            "text/plain": [
              "      country  systemic_crisis      exch_usd  domestic_debt_in_default  \\\n",
              "0           0                1  5.226400e-02                         0   \n",
              "1           0                0  5.279800e-02                         0   \n",
              "2           0                0  5.227400e-02                         0   \n",
              "3           0                0  5.168000e-02                         0   \n",
              "4           0                0  5.130800e-02                         0   \n",
              "...       ...              ...           ...                       ...   \n",
              "1049       12                1  5.600000e-23                         1   \n",
              "1050       12                1  8.460000e-22                         1   \n",
              "1051       12                1  3.000000e-19                         1   \n",
              "1052       12                1  1.900000e-16                         1   \n",
              "1053       12                1  2.000000e-03                         1   \n",
              "\n",
              "      sovereign_external_debt_default  inflation_annual_cpi  independence  \\\n",
              "0                                   0          3.441456e+00             0   \n",
              "1                                   0          1.414914e+01             0   \n",
              "2                                   0         -3.718593e+00             0   \n",
              "3                                   0          1.120390e+01             0   \n",
              "4                                   0         -3.848561e+00             0   \n",
              "...                               ...                   ...           ...   \n",
              "1049                                1          1.327468e+02             1   \n",
              "1050                                1          5.858444e+02             1   \n",
              "1051                                1          1.281114e+03             1   \n",
              "1052                                1          6.627989e+04             1   \n",
              "1053                                1          2.198970e+07             1   \n",
              "\n",
              "      currency_crises  inflation_crises  banking_crisis  \n",
              "0                   0                 0               0  \n",
              "1                   0                 0               1  \n",
              "2                   0                 0               1  \n",
              "3                   0                 0               1  \n",
              "4                   0                 0               1  \n",
              "...               ...               ...             ...  \n",
              "1049                1                 1               0  \n",
              "1050                1                 1               0  \n",
              "1051                1                 1               0  \n",
              "1052                1                 1               0  \n",
              "1053                1                 1               0  \n",
              "\n",
              "[953 rows x 10 columns]"
            ]
          },
          "execution_count": 279,
          "metadata": {},
          "output_type": "execute_result"
        }
      ],
      "source": [
        "crises_df_cleaned"
      ]
    },
    {
      "cell_type": "code",
      "execution_count": 280,
      "metadata": {
        "id": "AHeH9m7fLPlY"
      },
      "outputs": [],
      "source": [
        "# divide the dataset into input features and output target\n",
        "x = crises_df_cleaned.drop('systemic_crisis', axis = 1)\n",
        "y = crises_df_cleaned.iloc[:,1]"
      ]
    },
    {
      "cell_type": "code",
      "execution_count": 281,
      "metadata": {},
      "outputs": [
        {
          "data": {
            "text/html": [
              "<div>\n",
              "<style scoped>\n",
              "    .dataframe tbody tr th:only-of-type {\n",
              "        vertical-align: middle;\n",
              "    }\n",
              "\n",
              "    .dataframe tbody tr th {\n",
              "        vertical-align: top;\n",
              "    }\n",
              "\n",
              "    .dataframe thead th {\n",
              "        text-align: right;\n",
              "    }\n",
              "</style>\n",
              "<table border=\"1\" class=\"dataframe\">\n",
              "  <thead>\n",
              "    <tr style=\"text-align: right;\">\n",
              "      <th></th>\n",
              "      <th>country</th>\n",
              "      <th>exch_usd</th>\n",
              "      <th>domestic_debt_in_default</th>\n",
              "      <th>sovereign_external_debt_default</th>\n",
              "      <th>inflation_annual_cpi</th>\n",
              "      <th>independence</th>\n",
              "      <th>currency_crises</th>\n",
              "      <th>inflation_crises</th>\n",
              "      <th>banking_crisis</th>\n",
              "    </tr>\n",
              "  </thead>\n",
              "  <tbody>\n",
              "    <tr>\n",
              "      <th>0</th>\n",
              "      <td>0</td>\n",
              "      <td>5.226400e-02</td>\n",
              "      <td>0</td>\n",
              "      <td>0</td>\n",
              "      <td>3.441456e+00</td>\n",
              "      <td>0</td>\n",
              "      <td>0</td>\n",
              "      <td>0</td>\n",
              "      <td>0</td>\n",
              "    </tr>\n",
              "    <tr>\n",
              "      <th>1</th>\n",
              "      <td>0</td>\n",
              "      <td>5.279800e-02</td>\n",
              "      <td>0</td>\n",
              "      <td>0</td>\n",
              "      <td>1.414914e+01</td>\n",
              "      <td>0</td>\n",
              "      <td>0</td>\n",
              "      <td>0</td>\n",
              "      <td>1</td>\n",
              "    </tr>\n",
              "    <tr>\n",
              "      <th>2</th>\n",
              "      <td>0</td>\n",
              "      <td>5.227400e-02</td>\n",
              "      <td>0</td>\n",
              "      <td>0</td>\n",
              "      <td>-3.718593e+00</td>\n",
              "      <td>0</td>\n",
              "      <td>0</td>\n",
              "      <td>0</td>\n",
              "      <td>1</td>\n",
              "    </tr>\n",
              "    <tr>\n",
              "      <th>3</th>\n",
              "      <td>0</td>\n",
              "      <td>5.168000e-02</td>\n",
              "      <td>0</td>\n",
              "      <td>0</td>\n",
              "      <td>1.120390e+01</td>\n",
              "      <td>0</td>\n",
              "      <td>0</td>\n",
              "      <td>0</td>\n",
              "      <td>1</td>\n",
              "    </tr>\n",
              "    <tr>\n",
              "      <th>4</th>\n",
              "      <td>0</td>\n",
              "      <td>5.130800e-02</td>\n",
              "      <td>0</td>\n",
              "      <td>0</td>\n",
              "      <td>-3.848561e+00</td>\n",
              "      <td>0</td>\n",
              "      <td>0</td>\n",
              "      <td>0</td>\n",
              "      <td>1</td>\n",
              "    </tr>\n",
              "    <tr>\n",
              "      <th>...</th>\n",
              "      <td>...</td>\n",
              "      <td>...</td>\n",
              "      <td>...</td>\n",
              "      <td>...</td>\n",
              "      <td>...</td>\n",
              "      <td>...</td>\n",
              "      <td>...</td>\n",
              "      <td>...</td>\n",
              "      <td>...</td>\n",
              "    </tr>\n",
              "    <tr>\n",
              "      <th>1049</th>\n",
              "      <td>12</td>\n",
              "      <td>5.600000e-23</td>\n",
              "      <td>1</td>\n",
              "      <td>1</td>\n",
              "      <td>1.327468e+02</td>\n",
              "      <td>1</td>\n",
              "      <td>1</td>\n",
              "      <td>1</td>\n",
              "      <td>0</td>\n",
              "    </tr>\n",
              "    <tr>\n",
              "      <th>1050</th>\n",
              "      <td>12</td>\n",
              "      <td>8.460000e-22</td>\n",
              "      <td>1</td>\n",
              "      <td>1</td>\n",
              "      <td>5.858444e+02</td>\n",
              "      <td>1</td>\n",
              "      <td>1</td>\n",
              "      <td>1</td>\n",
              "      <td>0</td>\n",
              "    </tr>\n",
              "    <tr>\n",
              "      <th>1051</th>\n",
              "      <td>12</td>\n",
              "      <td>3.000000e-19</td>\n",
              "      <td>1</td>\n",
              "      <td>1</td>\n",
              "      <td>1.281114e+03</td>\n",
              "      <td>1</td>\n",
              "      <td>1</td>\n",
              "      <td>1</td>\n",
              "      <td>0</td>\n",
              "    </tr>\n",
              "    <tr>\n",
              "      <th>1052</th>\n",
              "      <td>12</td>\n",
              "      <td>1.900000e-16</td>\n",
              "      <td>1</td>\n",
              "      <td>1</td>\n",
              "      <td>6.627989e+04</td>\n",
              "      <td>1</td>\n",
              "      <td>1</td>\n",
              "      <td>1</td>\n",
              "      <td>0</td>\n",
              "    </tr>\n",
              "    <tr>\n",
              "      <th>1053</th>\n",
              "      <td>12</td>\n",
              "      <td>2.000000e-03</td>\n",
              "      <td>1</td>\n",
              "      <td>1</td>\n",
              "      <td>2.198970e+07</td>\n",
              "      <td>1</td>\n",
              "      <td>1</td>\n",
              "      <td>1</td>\n",
              "      <td>0</td>\n",
              "    </tr>\n",
              "  </tbody>\n",
              "</table>\n",
              "<p>953 rows × 9 columns</p>\n",
              "</div>"
            ],
            "text/plain": [
              "      country      exch_usd  domestic_debt_in_default  \\\n",
              "0           0  5.226400e-02                         0   \n",
              "1           0  5.279800e-02                         0   \n",
              "2           0  5.227400e-02                         0   \n",
              "3           0  5.168000e-02                         0   \n",
              "4           0  5.130800e-02                         0   \n",
              "...       ...           ...                       ...   \n",
              "1049       12  5.600000e-23                         1   \n",
              "1050       12  8.460000e-22                         1   \n",
              "1051       12  3.000000e-19                         1   \n",
              "1052       12  1.900000e-16                         1   \n",
              "1053       12  2.000000e-03                         1   \n",
              "\n",
              "      sovereign_external_debt_default  inflation_annual_cpi  independence  \\\n",
              "0                                   0          3.441456e+00             0   \n",
              "1                                   0          1.414914e+01             0   \n",
              "2                                   0         -3.718593e+00             0   \n",
              "3                                   0          1.120390e+01             0   \n",
              "4                                   0         -3.848561e+00             0   \n",
              "...                               ...                   ...           ...   \n",
              "1049                                1          1.327468e+02             1   \n",
              "1050                                1          5.858444e+02             1   \n",
              "1051                                1          1.281114e+03             1   \n",
              "1052                                1          6.627989e+04             1   \n",
              "1053                                1          2.198970e+07             1   \n",
              "\n",
              "      currency_crises  inflation_crises  banking_crisis  \n",
              "0                   0                 0               0  \n",
              "1                   0                 0               1  \n",
              "2                   0                 0               1  \n",
              "3                   0                 0               1  \n",
              "4                   0                 0               1  \n",
              "...               ...               ...             ...  \n",
              "1049                1                 1               0  \n",
              "1050                1                 1               0  \n",
              "1051                1                 1               0  \n",
              "1052                1                 1               0  \n",
              "1053                1                 1               0  \n",
              "\n",
              "[953 rows x 9 columns]"
            ]
          },
          "execution_count": 281,
          "metadata": {},
          "output_type": "execute_result"
        }
      ],
      "source": [
        "x"
      ]
    },
    {
      "cell_type": "code",
      "execution_count": 282,
      "metadata": {},
      "outputs": [
        {
          "data": {
            "text/plain": [
              "Index(['country', 'exch_usd', 'domestic_debt_in_default',\n",
              "       'sovereign_external_debt_default', 'inflation_annual_cpi',\n",
              "       'independence', 'currency_crises', 'inflation_crises',\n",
              "       'banking_crisis'],\n",
              "      dtype='object')"
            ]
          },
          "execution_count": 282,
          "metadata": {},
          "output_type": "execute_result"
        }
      ],
      "source": [
        "x.columns"
      ]
    },
    {
      "cell_type": "code",
      "execution_count": 283,
      "metadata": {},
      "outputs": [
        {
          "data": {
            "text/plain": [
              "0       1\n",
              "1       0\n",
              "2       0\n",
              "3       0\n",
              "4       0\n",
              "       ..\n",
              "1049    1\n",
              "1050    1\n",
              "1051    1\n",
              "1052    1\n",
              "1053    1\n",
              "Name: systemic_crisis, Length: 953, dtype: int64"
            ]
          },
          "execution_count": 283,
          "metadata": {},
          "output_type": "execute_result"
        }
      ],
      "source": [
        "y"
      ]
    },
    {
      "cell_type": "code",
      "execution_count": 284,
      "metadata": {},
      "outputs": [],
      "source": [
        "from sklearn.preprocessing import MinMaxScaler\n",
        "\n",
        "mm = MinMaxScaler()\n",
        "\n",
        "x_scaled = mm.fit_transform(x)"
      ]
    },
    {
      "cell_type": "code",
      "execution_count": 285,
      "metadata": {
        "id": "8U7HOJjcLPlZ"
      },
      "outputs": [],
      "source": [
        "# split features and targets into train and test sets\n",
        "from sklearn.model_selection import train_test_split\n",
        "x_train, x_test, y_train, y_test = train_test_split(x_scaled, y, test_size = 0.2, random_state = 42)"
      ]
    },
    {
      "cell_type": "code",
      "execution_count": 286,
      "metadata": {
        "id": "FwdP5tPqLPlZ"
      },
      "outputs": [],
      "source": [
        "# fit model using Random forest classifier\n",
        "from sklearn.ensemble import RandomForestClassifier\n",
        "model = RandomForestClassifier()\n",
        "model = model.fit(x_train, y_train)"
      ]
    },
    {
      "cell_type": "code",
      "execution_count": 287,
      "metadata": {
        "colab": {
          "base_uri": "https://localhost:8080/"
        },
        "id": "xEKekwqsLPla",
        "outputId": "3c1d5971-320c-4a64-b683-e18648bb2c83"
      },
      "outputs": [
        {
          "data": {
            "text/plain": [
              "array([0, 0, 0, 0, 0, 0, 0, 0, 0, 0, 0, 0, 0, 0, 0, 0, 0, 0, 0, 1, 0, 0,\n",
              "       0, 0, 0, 0, 0, 1, 0, 0, 0, 0, 0, 0, 0, 0, 1, 0, 0, 0, 0, 1, 0, 0,\n",
              "       0, 1, 0, 0, 0, 0, 0, 0, 0, 0, 0, 0, 0, 0, 0, 0, 0, 0, 0, 0, 0, 0,\n",
              "       0, 0, 0, 0, 0, 0, 0, 0, 0, 0, 0, 0, 0, 0, 1, 0, 0, 0, 0, 0, 0, 0,\n",
              "       0, 0, 0, 0, 0, 0, 1, 0, 0, 0, 0, 1, 0, 1, 0, 0, 0, 0, 0, 0, 0, 0,\n",
              "       0, 1, 0, 0, 0, 0, 0, 0, 0, 0, 0, 0, 0, 0, 0, 0, 0, 0, 0, 0, 0, 0,\n",
              "       0, 0, 0, 0, 0, 0, 0, 0, 0, 0, 0, 1, 0, 1, 0, 0, 0, 0, 0, 1, 0, 0,\n",
              "       0, 0, 0, 0, 0, 0, 0, 0, 0, 0, 0, 0, 0, 0, 0, 0, 0, 0, 0, 0, 0, 0,\n",
              "       0, 0, 0, 0, 0, 0, 0, 1, 0, 0, 0, 0, 0, 0, 0], dtype=int64)"
            ]
          },
          "execution_count": 287,
          "metadata": {},
          "output_type": "execute_result"
        }
      ],
      "source": [
        "# make predictions of likelihood of systemic crises or not using the trained model\n",
        "y_pred = model.predict(x_test)\n",
        "y_pred"
      ]
    },
    {
      "cell_type": "code",
      "execution_count": 289,
      "metadata": {
        "colab": {
          "base_uri": "https://localhost:8080/"
        },
        "id": "t_z2RoxjLPlb",
        "outputId": "fc5b0bbf-5c3f-43cb-e17e-6de7888dab68"
      },
      "outputs": [
        {
          "data": {
            "text/plain": [
              "0.9790575916230366"
            ]
          },
          "execution_count": 289,
          "metadata": {},
          "output_type": "execute_result"
        }
      ],
      "source": [
        "# evaluate accuracy of our model using model score\n",
        "accuracy = model.score(x_test, y_test)\n",
        "accuracy"
      ]
    },
    {
      "cell_type": "code",
      "execution_count": 290,
      "metadata": {
        "colab": {
          "base_uri": "https://localhost:8080/"
        },
        "id": "OD7iwYYTLPlc",
        "outputId": "6a3dcc4f-daf7-4cc8-cdeb-c10e8c8cd919"
      },
      "outputs": [
        {
          "data": {
            "text/plain": [
              "array([[174,   1],\n",
              "       [  3,  13]], dtype=int64)"
            ]
          },
          "execution_count": 290,
          "metadata": {},
          "output_type": "execute_result"
        }
      ],
      "source": [
        "from sklearn.metrics import confusion_matrix\n",
        "cm = confusion_matrix(y_test, y_pred)\n",
        "cm"
      ]
    },
    {
      "cell_type": "code",
      "execution_count": 291,
      "metadata": {
        "colab": {
          "base_uri": "https://localhost:8080/",
          "height": 423
        },
        "id": "Xg3O-pGxLPld",
        "outputId": "013a7d9e-a1f6-4bb2-d627-17d0e80b7a37"
      },
      "outputs": [
        {
          "data": {
            "text/html": [
              "<div>\n",
              "<style scoped>\n",
              "    .dataframe tbody tr th:only-of-type {\n",
              "        vertical-align: middle;\n",
              "    }\n",
              "\n",
              "    .dataframe tbody tr th {\n",
              "        vertical-align: top;\n",
              "    }\n",
              "\n",
              "    .dataframe thead th {\n",
              "        text-align: right;\n",
              "    }\n",
              "</style>\n",
              "<table border=\"1\" class=\"dataframe\">\n",
              "  <thead>\n",
              "    <tr style=\"text-align: right;\">\n",
              "      <th></th>\n",
              "      <th>Actual Value</th>\n",
              "      <th>Predicted Value</th>\n",
              "    </tr>\n",
              "  </thead>\n",
              "  <tbody>\n",
              "    <tr>\n",
              "      <th>244</th>\n",
              "      <td>0</td>\n",
              "      <td>0</td>\n",
              "    </tr>\n",
              "    <tr>\n",
              "      <th>494</th>\n",
              "      <td>0</td>\n",
              "      <td>0</td>\n",
              "    </tr>\n",
              "    <tr>\n",
              "      <th>787</th>\n",
              "      <td>0</td>\n",
              "      <td>0</td>\n",
              "    </tr>\n",
              "    <tr>\n",
              "      <th>851</th>\n",
              "      <td>0</td>\n",
              "      <td>0</td>\n",
              "    </tr>\n",
              "    <tr>\n",
              "      <th>581</th>\n",
              "      <td>0</td>\n",
              "      <td>0</td>\n",
              "    </tr>\n",
              "    <tr>\n",
              "      <th>...</th>\n",
              "      <td>...</td>\n",
              "      <td>...</td>\n",
              "    </tr>\n",
              "    <tr>\n",
              "      <th>33</th>\n",
              "      <td>0</td>\n",
              "      <td>0</td>\n",
              "    </tr>\n",
              "    <tr>\n",
              "      <th>31</th>\n",
              "      <td>0</td>\n",
              "      <td>0</td>\n",
              "    </tr>\n",
              "    <tr>\n",
              "      <th>804</th>\n",
              "      <td>0</td>\n",
              "      <td>0</td>\n",
              "    </tr>\n",
              "    <tr>\n",
              "      <th>373</th>\n",
              "      <td>0</td>\n",
              "      <td>0</td>\n",
              "    </tr>\n",
              "    <tr>\n",
              "      <th>709</th>\n",
              "      <td>0</td>\n",
              "      <td>0</td>\n",
              "    </tr>\n",
              "  </tbody>\n",
              "</table>\n",
              "<p>191 rows × 2 columns</p>\n",
              "</div>"
            ],
            "text/plain": [
              "     Actual Value  Predicted Value\n",
              "244             0                0\n",
              "494             0                0\n",
              "787             0                0\n",
              "851             0                0\n",
              "581             0                0\n",
              "..            ...              ...\n",
              "33              0                0\n",
              "31              0                0\n",
              "804             0                0\n",
              "373             0                0\n",
              "709             0                0\n",
              "\n",
              "[191 rows x 2 columns]"
            ]
          },
          "execution_count": 291,
          "metadata": {},
          "output_type": "execute_result"
        }
      ],
      "source": [
        "# comparing predicted values with actual values\n",
        "predictions = pd.DataFrame({'Actual Value':y_test,'Predicted Value':y_pred})\n",
        "predictions"
      ]
    },
    {
      "cell_type": "code",
      "execution_count": 292,
      "metadata": {
        "colab": {
          "base_uri": "https://localhost:8080/"
        },
        "id": "LYxHPncLLPld",
        "outputId": "7eb533e2-3d36-4622-a518-1060b7c31ece"
      },
      "outputs": [
        {
          "name": "stdout",
          "output_type": "stream",
          "text": [
            "              precision    recall  f1-score   support\n",
            "\n",
            "           0       0.98      0.99      0.99       175\n",
            "           1       0.93      0.81      0.87        16\n",
            "\n",
            "    accuracy                           0.98       191\n",
            "   macro avg       0.96      0.90      0.93       191\n",
            "weighted avg       0.98      0.98      0.98       191\n",
            "\n"
          ]
        }
      ],
      "source": [
        "from sklearn.metrics import classification_report\n",
        "cr = classification_report(y_test, y_pred)\n",
        "print(cr)"
      ]
    },
    {
      "cell_type": "code",
      "execution_count": 293,
      "metadata": {},
      "outputs": [
        {
          "data": {
            "text/plain": [
              "['africa_crises_model2.joblib']"
            ]
          },
          "execution_count": 293,
          "metadata": {},
          "output_type": "execute_result"
        }
      ],
      "source": [
        "from joblib import dump\n",
        "\n",
        "dump(model, 'africa_crises_model2.joblib')"
      ]
    },
    {
      "cell_type": "code",
      "execution_count": null,
      "metadata": {},
      "outputs": [],
      "source": []
    }
  ],
  "metadata": {
    "colab": {
      "provenance": []
    },
    "kernelspec": {
      "display_name": "base",
      "language": "python",
      "name": "python3"
    },
    "language_info": {
      "codemirror_mode": {
        "name": "ipython",
        "version": 3
      },
      "file_extension": ".py",
      "mimetype": "text/x-python",
      "name": "python",
      "nbconvert_exporter": "python",
      "pygments_lexer": "ipython3",
      "version": "3.11.3"
    }
  },
  "nbformat": 4,
  "nbformat_minor": 0
}
